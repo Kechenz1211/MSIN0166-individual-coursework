{
  "nbformat": 4,
  "nbformat_minor": 0,
  "metadata": {
    "colab": {
      "provenance": []
    },
    "kernelspec": {
      "name": "python3",
      "display_name": "Python 3"
    },
    "language_info": {
      "name": "python"
    }
  },
  "cells": [
    {
      "cell_type": "code",
      "execution_count": null,
      "metadata": {
        "id": "1eEv73ssWHHI"
      },
      "outputs": [],
      "source": [
        "from awsglue.context import GlueContext\n",
        "from awsglue.job import Job\n",
        "from awsglue import DynamicFrame\n",
        "\n",
        "def sparkUnion(glueContext, unionType, mapping, transformation_ctx) -> DynamicFrame:\n",
        "    for alias, frame in mapping.items():\n",
        "        frame.toDF().createOrReplaceTempView(alias)\n",
        "    result = spark.sql(\"(select * from source1) UNION \" + unionType + \" (select * from source2)\")\n",
        "    return DynamicFrame.fromDF(result, glueContext, transformation_ctx)\n",
        "args = getResolvedOptions(sys.argv, ['JOB_NAME'])\n",
        "sc = SparkContext()\n",
        "glueContext = GlueContext(sc)\n",
        "spark = glueContext.spark_session\n",
        "job = Job(glueContext)\n",
        "job.init(args['JOB_NAME'], args)\n",
        "\n",
        "# Script generated for node Amazon S3\n",
        "AmazonS3_node1711754192967 = glueContext.create_dynamic_frame.from_options(format_options={}, connection_type=\"s3\", format=\"parquet\", connection_options={\"paths\": [\"s3://de-news-parquet-cleaned/run-1711753965891-part-block-0-r-00000-snappy.parquet\"], \"recurse\": True}, transformation_ctx=\"AmazonS3_node1711754192967\")\n",
        "\n",
        "# Script generated for node Amazon S3\n",
        "AmazonS3_node1711754282666 = glueContext.create_dynamic_frame.from_options(format_options={}, connection_type=\"s3\", format=\"parquet\", connection_options={\"paths\": [\"s3://de-news-parquet-cleaned/run-1711754076059-part-block-0-r-00000-snappy.parquet\"], \"recurse\": True}, transformation_ctx=\"AmazonS3_node1711754282666\")\n",
        "\n",
        "# Script generated for node Amazon S3\n",
        "AmazonS3_node1711754190843 = glueContext.create_dynamic_frame.from_options(format_options={}, connection_type=\"s3\", format=\"parquet\", connection_options={\"paths\": [\"s3://de-news-parquet-cleaned/run-1711753393084-part-block-0-r-00000-snappy.parquet\"], \"recurse\": True}, transformation_ctx=\"AmazonS3_node1711754190843\")\n",
        "\n",
        "# Script generated for node Schema Matcher for Union\n",
        "SchemaMatcherforUnion_node1711754248262 = ApplyMapping.apply(frame=AmazonS3_node1711754192967, mappings=[(\"author\", \"string\", \"author\", \"string\"), (\"title\", \"string\", \"title\", \"string\"), (\"description\", \"string\", \"description\", \"string\"), (\"source\", \"string\", \"source\", \"string\"), (\"category\", \"string\", \"category\", \"string\"), (\"date\", \"string\", \"date\", \"string\")], transformation_ctx=\"SchemaMatcherforUnion_node1711754248262\")\n",
        "\n",
        "# Script generated for node Change Schema\n",
        "ChangeSchema_node1711754326806 = ApplyMapping.apply(frame=AmazonS3_node1711754282666, mappings=[(\"author\", \"string\", \"author\", \"string\"), (\"title\", \"string\", \"title\", \"string\"), (\"description\", \"string\", \"description\", \"string\"), (\"source\", \"string\", \"source\", \"string\"), (\"category\", \"string\", \"category\", \"string\"), (\"date\", \"string\", \"date\", \"string\")], transformation_ctx=\"ChangeSchema_node1711754326806\")\n",
        "\n",
        "# Script generated for node Union\n",
        "Union_node1711754635416 = sparkUnion(glueContext, unionType = \"ALL\", mapping = {\"source1\": ChangeSchema_node1711754326806, \"source2\": SchemaMatcherforUnion_node1711754248262}, transformation_ctx = \"Union_node1711754635416\")\n",
        "\n",
        "# Script generated for node Union\n",
        "Union_node1711754704228 = sparkUnion(glueContext, unionType = \"ALL\", mapping = {\"source1\": AmazonS3_node1711754190843, \"source2\": Union_node1711754635416}, transformation_ctx = \"Union_node1711754704228\")\n",
        "\n",
        "# Script generated for node Amazon S3\n",
        "AmazonS3_node1711754716481 = glueContext.write_dynamic_frame.from_options(frame=Union_node1711754704228, connection_type=\"s3\", format=\"glueparquet\", connection_options={\"path\": \"s3://de-news-merge-parquets\", \"partitionKeys\": []}, format_options={\"compression\": \"snappy\"}, transformation_ctx=\"AmazonS3_node1711754716481\")\n",
        "\n",
        "job.commit()"
      ]
    }
  ]
}