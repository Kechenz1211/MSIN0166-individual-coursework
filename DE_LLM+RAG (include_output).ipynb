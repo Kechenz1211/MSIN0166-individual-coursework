{
  "nbformat": 4,
  "nbformat_minor": 0,
  "metadata": {
    "colab": {
      "provenance": []
    },
    "kernelspec": {
      "name": "python3",
      "display_name": "Python 3"
    },
    "language_info": {
      "name": "python"
    }
  },
  "cells": [
    {
      "cell_type": "code",
      "source": [
        "!pip install langchain huggingface_hub"
      ],
      "metadata": {
        "colab": {
          "base_uri": "https://localhost:8080/"
        },
        "id": "1jyeifhIzTFL",
        "outputId": "d26b95fe-6796-442a-cc9c-bc2f996be535"
      },
      "execution_count": 1,
      "outputs": [
        {
          "output_type": "stream",
          "name": "stdout",
          "text": [
            "Collecting langchain\n",
            "  Downloading langchain-0.1.16-py3-none-any.whl (817 kB)\n",
            "\u001b[2K     \u001b[90m━━━━━━━━━━━━━━━━━━━━━━━━━━━━━━━━━━━━━━━━\u001b[0m \u001b[32m817.7/817.7 kB\u001b[0m \u001b[31m7.2 MB/s\u001b[0m eta \u001b[36m0:00:00\u001b[0m\n",
            "\u001b[?25hRequirement already satisfied: huggingface_hub in /usr/local/lib/python3.10/dist-packages (0.20.3)\n",
            "Requirement already satisfied: PyYAML>=5.3 in /usr/local/lib/python3.10/dist-packages (from langchain) (6.0.1)\n",
            "Requirement already satisfied: SQLAlchemy<3,>=1.4 in /usr/local/lib/python3.10/dist-packages (from langchain) (2.0.29)\n",
            "Requirement already satisfied: aiohttp<4.0.0,>=3.8.3 in /usr/local/lib/python3.10/dist-packages (from langchain) (3.9.5)\n",
            "Requirement already satisfied: async-timeout<5.0.0,>=4.0.0 in /usr/local/lib/python3.10/dist-packages (from langchain) (4.0.3)\n",
            "Collecting dataclasses-json<0.7,>=0.5.7 (from langchain)\n",
            "  Downloading dataclasses_json-0.6.4-py3-none-any.whl (28 kB)\n",
            "Collecting jsonpatch<2.0,>=1.33 (from langchain)\n",
            "  Downloading jsonpatch-1.33-py2.py3-none-any.whl (12 kB)\n",
            "Collecting langchain-community<0.1,>=0.0.32 (from langchain)\n",
            "  Downloading langchain_community-0.0.33-py3-none-any.whl (1.9 MB)\n",
            "\u001b[2K     \u001b[90m━━━━━━━━━━━━━━━━━━━━━━━━━━━━━━━━━━━━━━━━\u001b[0m \u001b[32m1.9/1.9 MB\u001b[0m \u001b[31m13.6 MB/s\u001b[0m eta \u001b[36m0:00:00\u001b[0m\n",
            "\u001b[?25hCollecting langchain-core<0.2.0,>=0.1.42 (from langchain)\n",
            "  Downloading langchain_core-0.1.44-py3-none-any.whl (290 kB)\n",
            "\u001b[2K     \u001b[90m━━━━━━━━━━━━━━━━━━━━━━━━━━━━━━━━━━━━━━━━\u001b[0m \u001b[32m290.2/290.2 kB\u001b[0m \u001b[31m12.8 MB/s\u001b[0m eta \u001b[36m0:00:00\u001b[0m\n",
            "\u001b[?25hCollecting langchain-text-splitters<0.1,>=0.0.1 (from langchain)\n",
            "  Downloading langchain_text_splitters-0.0.1-py3-none-any.whl (21 kB)\n",
            "Collecting langsmith<0.2.0,>=0.1.17 (from langchain)\n",
            "  Downloading langsmith-0.1.49-py3-none-any.whl (115 kB)\n",
            "\u001b[2K     \u001b[90m━━━━━━━━━━━━━━━━━━━━━━━━━━━━━━━━━━━━━━━━\u001b[0m \u001b[32m115.2/115.2 kB\u001b[0m \u001b[31m11.9 MB/s\u001b[0m eta \u001b[36m0:00:00\u001b[0m\n",
            "\u001b[?25hRequirement already satisfied: numpy<2,>=1 in /usr/local/lib/python3.10/dist-packages (from langchain) (1.25.2)\n",
            "Requirement already satisfied: pydantic<3,>=1 in /usr/local/lib/python3.10/dist-packages (from langchain) (2.7.0)\n",
            "Requirement already satisfied: requests<3,>=2 in /usr/local/lib/python3.10/dist-packages (from langchain) (2.31.0)\n",
            "Requirement already satisfied: tenacity<9.0.0,>=8.1.0 in /usr/local/lib/python3.10/dist-packages (from langchain) (8.2.3)\n",
            "Requirement already satisfied: filelock in /usr/local/lib/python3.10/dist-packages (from huggingface_hub) (3.13.4)\n",
            "Requirement already satisfied: fsspec>=2023.5.0 in /usr/local/lib/python3.10/dist-packages (from huggingface_hub) (2023.6.0)\n",
            "Requirement already satisfied: tqdm>=4.42.1 in /usr/local/lib/python3.10/dist-packages (from huggingface_hub) (4.66.2)\n",
            "Requirement already satisfied: typing-extensions>=3.7.4.3 in /usr/local/lib/python3.10/dist-packages (from huggingface_hub) (4.11.0)\n",
            "Requirement already satisfied: packaging>=20.9 in /usr/local/lib/python3.10/dist-packages (from huggingface_hub) (24.0)\n",
            "Requirement already satisfied: aiosignal>=1.1.2 in /usr/local/lib/python3.10/dist-packages (from aiohttp<4.0.0,>=3.8.3->langchain) (1.3.1)\n",
            "Requirement already satisfied: attrs>=17.3.0 in /usr/local/lib/python3.10/dist-packages (from aiohttp<4.0.0,>=3.8.3->langchain) (23.2.0)\n",
            "Requirement already satisfied: frozenlist>=1.1.1 in /usr/local/lib/python3.10/dist-packages (from aiohttp<4.0.0,>=3.8.3->langchain) (1.4.1)\n",
            "Requirement already satisfied: multidict<7.0,>=4.5 in /usr/local/lib/python3.10/dist-packages (from aiohttp<4.0.0,>=3.8.3->langchain) (6.0.5)\n",
            "Requirement already satisfied: yarl<2.0,>=1.0 in /usr/local/lib/python3.10/dist-packages (from aiohttp<4.0.0,>=3.8.3->langchain) (1.9.4)\n",
            "Collecting marshmallow<4.0.0,>=3.18.0 (from dataclasses-json<0.7,>=0.5.7->langchain)\n",
            "  Downloading marshmallow-3.21.1-py3-none-any.whl (49 kB)\n",
            "\u001b[2K     \u001b[90m━━━━━━━━━━━━━━━━━━━━━━━━━━━━━━━━━━━━━━━━\u001b[0m \u001b[32m49.4/49.4 kB\u001b[0m \u001b[31m4.8 MB/s\u001b[0m eta \u001b[36m0:00:00\u001b[0m\n",
            "\u001b[?25hCollecting typing-inspect<1,>=0.4.0 (from dataclasses-json<0.7,>=0.5.7->langchain)\n",
            "  Downloading typing_inspect-0.9.0-py3-none-any.whl (8.8 kB)\n",
            "Collecting jsonpointer>=1.9 (from jsonpatch<2.0,>=1.33->langchain)\n",
            "  Downloading jsonpointer-2.4-py2.py3-none-any.whl (7.8 kB)\n",
            "Collecting packaging>=20.9 (from huggingface_hub)\n",
            "  Downloading packaging-23.2-py3-none-any.whl (53 kB)\n",
            "\u001b[2K     \u001b[90m━━━━━━━━━━━━━━━━━━━━━━━━━━━━━━━━━━━━━━━━\u001b[0m \u001b[32m53.0/53.0 kB\u001b[0m \u001b[31m5.6 MB/s\u001b[0m eta \u001b[36m0:00:00\u001b[0m\n",
            "\u001b[?25hCollecting orjson<4.0.0,>=3.9.14 (from langsmith<0.2.0,>=0.1.17->langchain)\n",
            "  Downloading orjson-3.10.1-cp310-cp310-manylinux_2_17_x86_64.manylinux2014_x86_64.whl (141 kB)\n",
            "\u001b[2K     \u001b[90m━━━━━━━━━━━━━━━━━━━━━━━━━━━━━━━━━━━━━━━━\u001b[0m \u001b[32m141.1/141.1 kB\u001b[0m \u001b[31m13.6 MB/s\u001b[0m eta \u001b[36m0:00:00\u001b[0m\n",
            "\u001b[?25hRequirement already satisfied: annotated-types>=0.4.0 in /usr/local/lib/python3.10/dist-packages (from pydantic<3,>=1->langchain) (0.6.0)\n",
            "Requirement already satisfied: pydantic-core==2.18.1 in /usr/local/lib/python3.10/dist-packages (from pydantic<3,>=1->langchain) (2.18.1)\n",
            "Requirement already satisfied: charset-normalizer<4,>=2 in /usr/local/lib/python3.10/dist-packages (from requests<3,>=2->langchain) (3.3.2)\n",
            "Requirement already satisfied: idna<4,>=2.5 in /usr/local/lib/python3.10/dist-packages (from requests<3,>=2->langchain) (3.7)\n",
            "Requirement already satisfied: urllib3<3,>=1.21.1 in /usr/local/lib/python3.10/dist-packages (from requests<3,>=2->langchain) (2.0.7)\n",
            "Requirement already satisfied: certifi>=2017.4.17 in /usr/local/lib/python3.10/dist-packages (from requests<3,>=2->langchain) (2024.2.2)\n",
            "Requirement already satisfied: greenlet!=0.4.17 in /usr/local/lib/python3.10/dist-packages (from SQLAlchemy<3,>=1.4->langchain) (3.0.3)\n",
            "Collecting mypy-extensions>=0.3.0 (from typing-inspect<1,>=0.4.0->dataclasses-json<0.7,>=0.5.7->langchain)\n",
            "  Downloading mypy_extensions-1.0.0-py3-none-any.whl (4.7 kB)\n",
            "Installing collected packages: packaging, orjson, mypy-extensions, jsonpointer, typing-inspect, marshmallow, jsonpatch, langsmith, dataclasses-json, langchain-core, langchain-text-splitters, langchain-community, langchain\n",
            "  Attempting uninstall: packaging\n",
            "    Found existing installation: packaging 24.0\n",
            "    Uninstalling packaging-24.0:\n",
            "      Successfully uninstalled packaging-24.0\n",
            "Successfully installed dataclasses-json-0.6.4 jsonpatch-1.33 jsonpointer-2.4 langchain-0.1.16 langchain-community-0.0.33 langchain-core-0.1.44 langchain-text-splitters-0.0.1 langsmith-0.1.49 marshmallow-3.21.1 mypy-extensions-1.0.0 orjson-3.10.1 packaging-23.2 typing-inspect-0.9.0\n"
          ]
        }
      ]
    },
    {
      "cell_type": "code",
      "source": [
        "!pip install transformers sentence_transformers accelerate bitsandbytes"
      ],
      "metadata": {
        "id": "KYZGghcszj-P",
        "colab": {
          "base_uri": "https://localhost:8080/"
        },
        "outputId": "2620d5dd-eba0-4c4b-db27-53a36b7b8199"
      },
      "execution_count": 2,
      "outputs": [
        {
          "output_type": "stream",
          "name": "stdout",
          "text": [
            "Requirement already satisfied: transformers in /usr/local/lib/python3.10/dist-packages (4.38.2)\n",
            "Collecting sentence_transformers\n",
            "  Downloading sentence_transformers-2.7.0-py3-none-any.whl (171 kB)\n",
            "\u001b[2K     \u001b[90m━━━━━━━━━━━━━━━━━━━━━━━━━━━━━━━━━━━━━━━━\u001b[0m \u001b[32m171.5/171.5 kB\u001b[0m \u001b[31m3.6 MB/s\u001b[0m eta \u001b[36m0:00:00\u001b[0m\n",
            "\u001b[?25hCollecting accelerate\n",
            "  Downloading accelerate-0.29.3-py3-none-any.whl (297 kB)\n",
            "\u001b[2K     \u001b[90m━━━━━━━━━━━━━━━━━━━━━━━━━━━━━━━━━━━━━━━━\u001b[0m \u001b[32m297.6/297.6 kB\u001b[0m \u001b[31m13.9 MB/s\u001b[0m eta \u001b[36m0:00:00\u001b[0m\n",
            "\u001b[?25hCollecting bitsandbytes\n",
            "  Downloading bitsandbytes-0.43.1-py3-none-manylinux_2_24_x86_64.whl (119.8 MB)\n",
            "\u001b[2K     \u001b[90m━━━━━━━━━━━━━━━━━━━━━━━━━━━━━━━━━━━━━━━━\u001b[0m \u001b[32m119.8/119.8 MB\u001b[0m \u001b[31m8.5 MB/s\u001b[0m eta \u001b[36m0:00:00\u001b[0m\n",
            "\u001b[?25hRequirement already satisfied: filelock in /usr/local/lib/python3.10/dist-packages (from transformers) (3.13.4)\n",
            "Requirement already satisfied: huggingface-hub<1.0,>=0.19.3 in /usr/local/lib/python3.10/dist-packages (from transformers) (0.20.3)\n",
            "Requirement already satisfied: numpy>=1.17 in /usr/local/lib/python3.10/dist-packages (from transformers) (1.25.2)\n",
            "Requirement already satisfied: packaging>=20.0 in /usr/local/lib/python3.10/dist-packages (from transformers) (23.2)\n",
            "Requirement already satisfied: pyyaml>=5.1 in /usr/local/lib/python3.10/dist-packages (from transformers) (6.0.1)\n",
            "Requirement already satisfied: regex!=2019.12.17 in /usr/local/lib/python3.10/dist-packages (from transformers) (2023.12.25)\n",
            "Requirement already satisfied: requests in /usr/local/lib/python3.10/dist-packages (from transformers) (2.31.0)\n",
            "Requirement already satisfied: tokenizers<0.19,>=0.14 in /usr/local/lib/python3.10/dist-packages (from transformers) (0.15.2)\n",
            "Requirement already satisfied: safetensors>=0.4.1 in /usr/local/lib/python3.10/dist-packages (from transformers) (0.4.3)\n",
            "Requirement already satisfied: tqdm>=4.27 in /usr/local/lib/python3.10/dist-packages (from transformers) (4.66.2)\n",
            "Requirement already satisfied: torch>=1.11.0 in /usr/local/lib/python3.10/dist-packages (from sentence_transformers) (2.2.1+cu121)\n",
            "Requirement already satisfied: scikit-learn in /usr/local/lib/python3.10/dist-packages (from sentence_transformers) (1.2.2)\n",
            "Requirement already satisfied: scipy in /usr/local/lib/python3.10/dist-packages (from sentence_transformers) (1.11.4)\n",
            "Requirement already satisfied: Pillow in /usr/local/lib/python3.10/dist-packages (from sentence_transformers) (9.4.0)\n",
            "Requirement already satisfied: psutil in /usr/local/lib/python3.10/dist-packages (from accelerate) (5.9.5)\n",
            "Requirement already satisfied: fsspec>=2023.5.0 in /usr/local/lib/python3.10/dist-packages (from huggingface-hub<1.0,>=0.19.3->transformers) (2023.6.0)\n",
            "Requirement already satisfied: typing-extensions>=3.7.4.3 in /usr/local/lib/python3.10/dist-packages (from huggingface-hub<1.0,>=0.19.3->transformers) (4.11.0)\n",
            "Requirement already satisfied: sympy in /usr/local/lib/python3.10/dist-packages (from torch>=1.11.0->sentence_transformers) (1.12)\n",
            "Requirement already satisfied: networkx in /usr/local/lib/python3.10/dist-packages (from torch>=1.11.0->sentence_transformers) (3.3)\n",
            "Requirement already satisfied: jinja2 in /usr/local/lib/python3.10/dist-packages (from torch>=1.11.0->sentence_transformers) (3.1.3)\n",
            "Collecting nvidia-cuda-nvrtc-cu12==12.1.105 (from torch>=1.11.0->sentence_transformers)\n",
            "  Using cached nvidia_cuda_nvrtc_cu12-12.1.105-py3-none-manylinux1_x86_64.whl (23.7 MB)\n",
            "Collecting nvidia-cuda-runtime-cu12==12.1.105 (from torch>=1.11.0->sentence_transformers)\n",
            "  Using cached nvidia_cuda_runtime_cu12-12.1.105-py3-none-manylinux1_x86_64.whl (823 kB)\n",
            "Collecting nvidia-cuda-cupti-cu12==12.1.105 (from torch>=1.11.0->sentence_transformers)\n",
            "  Using cached nvidia_cuda_cupti_cu12-12.1.105-py3-none-manylinux1_x86_64.whl (14.1 MB)\n",
            "Collecting nvidia-cudnn-cu12==8.9.2.26 (from torch>=1.11.0->sentence_transformers)\n",
            "  Using cached nvidia_cudnn_cu12-8.9.2.26-py3-none-manylinux1_x86_64.whl (731.7 MB)\n",
            "Collecting nvidia-cublas-cu12==12.1.3.1 (from torch>=1.11.0->sentence_transformers)\n",
            "  Using cached nvidia_cublas_cu12-12.1.3.1-py3-none-manylinux1_x86_64.whl (410.6 MB)\n",
            "Collecting nvidia-cufft-cu12==11.0.2.54 (from torch>=1.11.0->sentence_transformers)\n",
            "  Using cached nvidia_cufft_cu12-11.0.2.54-py3-none-manylinux1_x86_64.whl (121.6 MB)\n",
            "Collecting nvidia-curand-cu12==10.3.2.106 (from torch>=1.11.0->sentence_transformers)\n",
            "  Using cached nvidia_curand_cu12-10.3.2.106-py3-none-manylinux1_x86_64.whl (56.5 MB)\n",
            "Collecting nvidia-cusolver-cu12==11.4.5.107 (from torch>=1.11.0->sentence_transformers)\n",
            "  Using cached nvidia_cusolver_cu12-11.4.5.107-py3-none-manylinux1_x86_64.whl (124.2 MB)\n",
            "Collecting nvidia-cusparse-cu12==12.1.0.106 (from torch>=1.11.0->sentence_transformers)\n",
            "  Using cached nvidia_cusparse_cu12-12.1.0.106-py3-none-manylinux1_x86_64.whl (196.0 MB)\n",
            "Collecting nvidia-nccl-cu12==2.19.3 (from torch>=1.11.0->sentence_transformers)\n",
            "  Using cached nvidia_nccl_cu12-2.19.3-py3-none-manylinux1_x86_64.whl (166.0 MB)\n",
            "Collecting nvidia-nvtx-cu12==12.1.105 (from torch>=1.11.0->sentence_transformers)\n",
            "  Using cached nvidia_nvtx_cu12-12.1.105-py3-none-manylinux1_x86_64.whl (99 kB)\n",
            "Requirement already satisfied: triton==2.2.0 in /usr/local/lib/python3.10/dist-packages (from torch>=1.11.0->sentence_transformers) (2.2.0)\n",
            "Collecting nvidia-nvjitlink-cu12 (from nvidia-cusolver-cu12==11.4.5.107->torch>=1.11.0->sentence_transformers)\n",
            "  Using cached nvidia_nvjitlink_cu12-12.4.127-py3-none-manylinux2014_x86_64.whl (21.1 MB)\n",
            "Requirement already satisfied: charset-normalizer<4,>=2 in /usr/local/lib/python3.10/dist-packages (from requests->transformers) (3.3.2)\n",
            "Requirement already satisfied: idna<4,>=2.5 in /usr/local/lib/python3.10/dist-packages (from requests->transformers) (3.7)\n",
            "Requirement already satisfied: urllib3<3,>=1.21.1 in /usr/local/lib/python3.10/dist-packages (from requests->transformers) (2.0.7)\n",
            "Requirement already satisfied: certifi>=2017.4.17 in /usr/local/lib/python3.10/dist-packages (from requests->transformers) (2024.2.2)\n",
            "Requirement already satisfied: joblib>=1.1.1 in /usr/local/lib/python3.10/dist-packages (from scikit-learn->sentence_transformers) (1.4.0)\n",
            "Requirement already satisfied: threadpoolctl>=2.0.0 in /usr/local/lib/python3.10/dist-packages (from scikit-learn->sentence_transformers) (3.4.0)\n",
            "Requirement already satisfied: MarkupSafe>=2.0 in /usr/local/lib/python3.10/dist-packages (from jinja2->torch>=1.11.0->sentence_transformers) (2.1.5)\n",
            "Requirement already satisfied: mpmath>=0.19 in /usr/local/lib/python3.10/dist-packages (from sympy->torch>=1.11.0->sentence_transformers) (1.3.0)\n",
            "Installing collected packages: nvidia-nvtx-cu12, nvidia-nvjitlink-cu12, nvidia-nccl-cu12, nvidia-curand-cu12, nvidia-cufft-cu12, nvidia-cuda-runtime-cu12, nvidia-cuda-nvrtc-cu12, nvidia-cuda-cupti-cu12, nvidia-cublas-cu12, nvidia-cusparse-cu12, nvidia-cudnn-cu12, nvidia-cusolver-cu12, sentence_transformers, bitsandbytes, accelerate\n",
            "Successfully installed accelerate-0.29.3 bitsandbytes-0.43.1 nvidia-cublas-cu12-12.1.3.1 nvidia-cuda-cupti-cu12-12.1.105 nvidia-cuda-nvrtc-cu12-12.1.105 nvidia-cuda-runtime-cu12-12.1.105 nvidia-cudnn-cu12-8.9.2.26 nvidia-cufft-cu12-11.0.2.54 nvidia-curand-cu12-10.3.2.106 nvidia-cusolver-cu12-11.4.5.107 nvidia-cusparse-cu12-12.1.0.106 nvidia-nccl-cu12-2.19.3 nvidia-nvjitlink-cu12-12.4.127 nvidia-nvtx-cu12-12.1.105 sentence_transformers-2.7.0\n"
          ]
        }
      ]
    },
    {
      "cell_type": "code",
      "source": [
        "from getpass import getpass\n",
        "HUGGINGFACE_API_TOKEN=getpass()"
      ],
      "metadata": {
        "colab": {
          "base_uri": "https://localhost:8080/"
        },
        "id": "eJieJU1Gz4bX",
        "outputId": "ac5e5690-b509-4f74-ff26-4da81a5567d4"
      },
      "execution_count": 3,
      "outputs": [
        {
          "name": "stdout",
          "output_type": "stream",
          "text": [
            "··········\n"
          ]
        }
      ]
    },
    {
      "cell_type": "code",
      "source": [
        "import os\n",
        "os.environ[\"HUGGINGFACEHUB_API_TOKEN\"]=HUGGINGFACE_API_TOKEN"
      ],
      "metadata": {
        "id": "Mj3GZpX01AeO"
      },
      "execution_count": 4,
      "outputs": []
    },
    {
      "cell_type": "code",
      "source": [
        "from langchain_community.llms import HuggingFaceHub\n",
        "\n",
        "from langchain.chains import LLMChain\n",
        "from langchain.prompts import PromptTemplate"
      ],
      "metadata": {
        "id": "H-k2hOjq1TGi"
      },
      "execution_count": 8,
      "outputs": []
    },
    {
      "cell_type": "code",
      "source": [
        "# test the model\n",
        "question=\"Where is the capital of China?\"\n",
        "template=\"\"\" Question: {question} Answer:let's think step by step.\"\"\"\n",
        "\n",
        "prompt=PromptTemplate(template=template,input_variables=['question'])"
      ],
      "metadata": {
        "id": "ovYIBiRK2Kx9"
      },
      "execution_count": 9,
      "outputs": []
    },
    {
      "cell_type": "code",
      "source": [
        "repo_id='google/flan-t5-base'"
      ],
      "metadata": {
        "id": "NoAYt6YK29sc"
      },
      "execution_count": 10,
      "outputs": []
    },
    {
      "cell_type": "code",
      "source": [
        "llm=HuggingFaceHub(\n",
        "    repo_id=repo_id\n",
        ")\n",
        "llm_chain=LLMChain(prompt=prompt,llm=llm,llm_kwargs={\"temperature\":0,\"max_length\":512})\n",
        "print(llm_chain.run(question))"
      ],
      "metadata": {
        "colab": {
          "base_uri": "https://localhost:8080/"
        },
        "id": "VBfDgeHY3N3Q",
        "outputId": "bef8fb2e-c5f2-40bf-8100-5b33e6abdff3"
      },
      "execution_count": 11,
      "outputs": [
        {
          "output_type": "stream",
          "name": "stderr",
          "text": [
            "/usr/local/lib/python3.10/dist-packages/langchain_core/_api/deprecation.py:117: LangChainDeprecationWarning: The function `run` was deprecated in LangChain 0.1.0 and will be removed in 0.2.0. Use invoke instead.\n",
            "  warn_deprecated(\n"
          ]
        },
        {
          "output_type": "stream",
          "name": "stdout",
          "text": [
            "China is a country located in the north of China. The capital of China is Beijing. The answer: Beijing.\n"
          ]
        }
      ]
    },
    {
      "cell_type": "markdown",
      "source": [
        "RAG search"
      ],
      "metadata": {
        "id": "UIvi50H35ZCz"
      }
    },
    {
      "cell_type": "code",
      "source": [
        "from langchain.document_loaders.csv_loader import CSVLoader\n",
        "#from langchain.vectorstores import FAISS\n",
        "from langchain_community.vectorstores import FAISS"
      ],
      "metadata": {
        "id": "5rmZpXy_4xwN"
      },
      "execution_count": 12,
      "outputs": []
    },
    {
      "cell_type": "code",
      "source": [
        "from langchain.document_loaders import PyPDFLoader"
      ],
      "metadata": {
        "id": "6VEoduffJKN0"
      },
      "execution_count": 13,
      "outputs": []
    },
    {
      "cell_type": "code",
      "source": [
        "import pandas as pd\n",
        "\n",
        "loader = CSVLoader(file_path=\"merged_data_new_insert.csv\")\n",
        "pages= loader.load()\n",
        "\n",
        "\n",
        "from langchain.text_splitter import RecursiveCharacterTextSplitter\n",
        "\n",
        "text_splitter= RecursiveCharacterTextSplitter(chunk_size=300,chunk_overlap=50,)\n",
        "docs=text_splitter.split_documents(pages)"
      ],
      "metadata": {
        "id": "8txJ3b845t2t"
      },
      "execution_count": 14,
      "outputs": []
    },
    {
      "cell_type": "code",
      "source": [
        "len(docs)\n",
        "type(docs[0])"
      ],
      "metadata": {
        "colab": {
          "base_uri": "https://localhost:8080/",
          "height": 121
        },
        "id": "liXpdy4aLpYv",
        "outputId": "b7437154-35dc-431b-bb99-ef1f8e30627f"
      },
      "execution_count": 15,
      "outputs": [
        {
          "output_type": "execute_result",
          "data": {
            "text/plain": [
              "langchain_core.documents.base.Document"
            ],
            "text/html": [
              "<div style=\"max-width:800px; border: 1px solid var(--colab-border-color);\"><style>\n",
              "      pre.function-repr-contents {\n",
              "        overflow-x: auto;\n",
              "        padding: 8px 12px;\n",
              "        max-height: 500px;\n",
              "      }\n",
              "\n",
              "      pre.function-repr-contents.function-repr-contents-collapsed {\n",
              "        cursor: pointer;\n",
              "        max-height: 100px;\n",
              "      }\n",
              "    </style>\n",
              "    <pre style=\"white-space: initial; background:\n",
              "         var(--colab-secondary-surface-color); padding: 8px 12px;\n",
              "         border-bottom: 1px solid var(--colab-border-color);\"><b>langchain_core.documents.base.Document</b><br/>def __init__(page_content: str, **kwargs: Any) -&gt; None</pre><pre class=\"function-repr-contents function-repr-contents-collapsed\" style=\"\"><a class=\"filepath\" style=\"display:none\" href=\"#\">/usr/local/lib/python3.10/dist-packages/langchain_core/documents/base.py</a>Class for storing a piece of text and associated metadata.</pre>\n",
              "      <script>\n",
              "      if (google.colab.kernel.accessAllowed && google.colab.files && google.colab.files.view) {\n",
              "        for (const element of document.querySelectorAll('.filepath')) {\n",
              "          element.style.display = 'block'\n",
              "          element.onclick = (event) => {\n",
              "            event.preventDefault();\n",
              "            event.stopPropagation();\n",
              "            google.colab.files.view(element.textContent, 9);\n",
              "          };\n",
              "        }\n",
              "      }\n",
              "      for (const element of document.querySelectorAll('.function-repr-contents')) {\n",
              "        element.onclick = (event) => {\n",
              "          event.preventDefault();\n",
              "          event.stopPropagation();\n",
              "          element.classList.toggle('function-repr-contents-collapsed');\n",
              "        };\n",
              "      }\n",
              "      </script>\n",
              "      </div>"
            ]
          },
          "metadata": {},
          "execution_count": 15
        }
      ]
    },
    {
      "cell_type": "code",
      "source": [
        "# check whether the docs is empty\n",
        "if not docs:\n",
        "    print(\"the splitted file is empty\")\n",
        "else:\n",
        "    print(f\"generate {len(docs)} files\")\n",
        "\n",
        "print(f\"Loaded {len(pages)} pages.\")\n",
        "print(f\"Split into {len(docs)} documents.\")\n",
        "\n",
        "doc = docs[0]\n",
        "print(dir(doc))\n",
        "print(doc)\n",
        "print(docs)\n",
        "\n",
        "os.environ[\"HUGGINGFACE_API_TOKEN\"] = HUGGINGFACE_API_TOKEN\n",
        "\n",
        "dir(docs)"
      ],
      "metadata": {
        "id": "yiOzAY3CAvCv",
        "colab": {
          "base_uri": "https://localhost:8080/"
        },
        "outputId": "f744bcb3-55a1-4d1b-dfbe-26efc968c0cc"
      },
      "execution_count": 16,
      "outputs": [
        {
          "output_type": "stream",
          "name": "stdout",
          "text": [
            "generate 250 files\n",
            "Loaded 136 pages.\n",
            "Split into 250 documents.\n",
            "['Config', '__abstractmethods__', '__annotations__', '__class__', '__class_vars__', '__config__', '__custom_root_type__', '__delattr__', '__dict__', '__dir__', '__doc__', '__eq__', '__exclude_fields__', '__fields__', '__fields_set__', '__format__', '__ge__', '__get_validators__', '__getattribute__', '__getstate__', '__gt__', '__hash__', '__include_fields__', '__init__', '__init_subclass__', '__iter__', '__json_encoder__', '__le__', '__lt__', '__module__', '__ne__', '__new__', '__post_root_validators__', '__pre_root_validators__', '__pretty__', '__private_attributes__', '__reduce__', '__reduce_ex__', '__repr__', '__repr_args__', '__repr_name__', '__repr_str__', '__rich_repr__', '__schema_cache__', '__setattr__', '__setstate__', '__signature__', '__sizeof__', '__slots__', '__str__', '__subclasshook__', '__try_update_forward_refs__', '__validators__', '_abc_impl', '_calculate_keys', '_copy_and_set_values', '_decompose_class', '_enforce_dict_if_root', '_get_value', '_init_private_attributes', '_iter', '_lc_kwargs', 'construct', 'copy', 'dict', 'from_orm', 'get_lc_namespace', 'is_lc_serializable', 'json', 'lc_attributes', 'lc_id', 'lc_secrets', 'metadata', 'page_content', 'parse_file', 'parse_obj', 'parse_raw', 'schema', 'schema_json', 'to_json', 'to_json_not_implemented', 'type', 'update_forward_refs', 'validate']\n",
            "page_content='author: \\ntitle: Forian GAAP EPS of $0.04 beats by $0.07, revenue of $5.37M misses by $0.19M\\ndescription: Forian GAAP EPS of $0.04 beats by $0.07, revenue of $5.37M misses by $0.19M\\nsource: Seeking Alpha\\ncategory: business\\ndate: 2024-03-28' metadata={'source': 'merged_data_new_insert.csv', 'row': 0}\n",
            "[Document(page_content='author: \\ntitle: Forian GAAP EPS of $0.04 beats by $0.07, revenue of $5.37M misses by $0.19M\\ndescription: Forian GAAP EPS of $0.04 beats by $0.07, revenue of $5.37M misses by $0.19M\\nsource: Seeking Alpha\\ncategory: business\\ndate: 2024-03-28', metadata={'source': 'merged_data_new_insert.csv', 'row': 0}), Document(page_content='author: Andrew Ross Sorkin, Ravi Mattu, Bernhard Warner, Sarah Kessler, Michael J. de la Merced, Lauren Hirsch and Ephrat Livni\\ntitle: Josh Kushner and Karlie Kloss Plan to Revive Life Magazine', metadata={'source': 'merged_data_new_insert.csv', 'row': 1}), Document(page_content='description: The investor Josh Kushner and his wife, Karlie Kloss, have struck a deal with Barry Diller’s media company to revive it as a regular print title.\\nsource: The New York Times\\ncategory: business\\ndate: 2024-03-28', metadata={'source': 'merged_data_new_insert.csv', 'row': 1}), Document(page_content=\"author: \\ntitle: Reed's Non-GAAP EPS of -$1.55 misses by $1.24, revenue of $11.7M misses by $2.38M\\ndescription: Reed's Non-GAAP EPS of -$1.55 misses by $1.24, revenue of $11.7M misses by $2.38M\\nsource: Seeking Alpha\\ncategory: business\\ndate: 2024-03-28\", metadata={'source': 'merged_data_new_insert.csv', 'row': 2}), Document(page_content='author: cdavis@thebtngroup.com (Chris Davis)\\ntitle: Starlux to Add Taipei-Seattle Service\\ndescription: Taiwan-based carrier Starlux Airlines on Aug. 16 will launch nonstop service between Seattle and Taipei.\\nsource: Business Travel News\\ncategory: business\\ndate: 2024-03-28', metadata={'source': 'merged_data_new_insert.csv', 'row': 3}), Document(page_content='author: cdavis@thebtngroup.com (Chris Davis)\\ntitle: Norse to Add Las Vegas-Gatwick Service\\ndescription: Norway-based Norse Atlantic Airlines on Sept. 12 will launch direct service between Las Vegas and London. &#160;\\nsource: Business Travel News\\ncategory: business\\ndate: 2024-03-28', metadata={'source': 'merged_data_new_insert.csv', 'row': 4}), Document(page_content='author: cdavis@thebtngroup.com (Chris Davis)\\ntitle: Avianca to Add 10 U.S. Routes\\ndescription: Colombia-based carrier Avianca this year will revive 10 seasonal direct routes between Latin America and the United States.\\nsource: Business Travel News\\ncategory: business\\ndate: 2024-03-28', metadata={'source': 'merged_data_new_insert.csv', 'row': 5}), Document(page_content='author: \\ntitle: Gorry in doubt for Matildas campaign\\ndescription: Matildas player Katrina Gorry is in some doubt for the Olympics after suffering an ankle injury at club level.\\nsource: The Sydney Morning Herald\\ncategory: sports\\ndate: 2024-03-28', metadata={'source': 'merged_data_new_insert.csv', 'row': 6}), Document(page_content='author: \\ntitle: Gorry in doubt for Matildas campaign\\ndescription: Matildas player Katrina Gorry is in some doubt for the Olympics after suffering an ankle injury at club level.\\nsource: The Age\\ncategory: sports\\ndate: 2024-03-28', metadata={'source': 'merged_data_new_insert.csv', 'row': 7}), Document(page_content='author: \\ntitle: Identifying tropane alkaloid types in Hyoscyamus niger L.', metadata={'source': 'merged_data_new_insert.csv', 'row': 8}), Document(page_content='description: Researchers conducted a study on tropane alkaloids (TAs), crucial natural compounds found abundantly in various plant families. TAs, often toxins, include major ones like L-hyoscyamine, atropine, and scopolamine, each with distinct pharmacological uses.', metadata={'source': 'merged_data_new_insert.csv', 'row': 8}), Document(page_content='source: Phys.org - News And Articles On Science And Technology\\ncategory: science\\ndate: 2024-03-28', metadata={'source': 'merged_data_new_insert.csv', 'row': 8}), Document(page_content='author: \\ntitle: Rexford Industrial buys 3M square feet of property from Blackstone for $1B\\ndescription: Rexford Industrial buys 3M square feet of property from Blackstone for $1B\\nsource: Seeking Alpha\\ncategory: business\\ndate: 2024-03-28', metadata={'source': 'merged_data_new_insert.csv', 'row': 9}), Document(page_content='author: \\ntitle: Hilton Grand Vacations elevates Dan Mathewes to President and CFO\\ndescription: Hilton Grand Vacations elevates Dan Mathewes to President and CFO\\nsource: Seeking Alpha\\ncategory: business\\ndate: 2024-03-28', metadata={'source': 'merged_data_new_insert.csv', 'row': 10}), Document(page_content='author: \\ntitle: Pineapple Energy GAAP EPS of -$0.16 misses by $0.08, revenue of $19.44M misses by $0.96M\\ndescription: Pineapple Energy GAAP EPS of -$0.16 misses by $0.08, revenue of $19.44M misses by $0.96M\\nsource: Seeking Alpha\\ncategory: business\\ndate: 2024-03-28', metadata={'source': 'merged_data_new_insert.csv', 'row': 11}), Document(page_content='author: \\ntitle: Kodiak Sciences GAAP EPS of -$1.13 misses by $0.31\\ndescription: Kodiak Sciences GAAP EPS of -$1.13 misses by $0.31\\nsource: Seeking Alpha\\ncategory: business\\ndate: 2024-03-28', metadata={'source': 'merged_data_new_insert.csv', 'row': 12}), Document(page_content='author: cdavis@thebtngroup.com (Chris Davis)\\ntitle: Condor Inaugurates Miami Service\\ndescription: German carrier Condor Airlines inaugurated direct service between Frankfurt and Miami, the carrier announced this week.&#160;\\nsource: Business Travel News\\ncategory: business\\ndate: 2024-03-28', metadata={'source': 'merged_data_new_insert.csv', 'row': 13}), Document(page_content=\"author: Eric Smithling, Yardbarker\\ntitle: Six biggest questions about the NBA's playoff picture\\ndescription: Here are the six most pressing questions surrounding the league as the regular season approaches its conclusion on Sunday, April 14.\\nsource: Yardbarker\\ncategory: sports\\ndate: 2024-03-28\", metadata={'source': 'merged_data_new_insert.csv', 'row': 14}), Document(page_content='author: \\ntitle: Searching for the Ideal Fish Taco\\ndescription: Cabbage, crema, pico de gallo and a spritz of lime, please?\\nsource: The New York Times\\ncategory: entertainment\\ndate: 2024-03-28', metadata={'source': 'merged_data_new_insert.csv', 'row': 15}), Document(page_content='author: Aaron Becker, Yardbarker\\ntitle: Six teams select quarterback in first round of latest mock draft', metadata={'source': 'merged_data_new_insert.csv', 'row': 16}), Document(page_content=\"description: The 2024 NFL Draft has arguably more quarterback talent than any other draft in recent memory. As a result, NFL.com's Charles Davis believes six teams will select a quarterback in the first round of his latest mock draft.\\nsource: Yardbarker\\ncategory: sports\\ndate: 2024-03-28\", metadata={'source': 'merged_data_new_insert.csv', 'row': 16}), Document(page_content='author: \\ntitle: Accelerate Diagnostics GAAP EPS of -$0.89 misses by $0.27, revenue of $3M misses by $0.45M\\ndescription: Accelerate Diagnostics GAAP EPS of -$0.89 misses by $0.27, revenue of $3M misses by $0.45M\\nsource: Seeking Alpha\\ncategory: business\\ndate: 2024-03-28', metadata={'source': 'merged_data_new_insert.csv', 'row': 17}), Document(page_content='author: Austen Goslin\\ntitle: Chani is the real protagonist of Dune: Part Two\\ndescription: Photo: Chiabella James/Warner Bros. Pictures This is Zendaya’s movie, and the storytelling choices reflect it Continue reading&hellip;\\nsource: Polygon\\ncategory: entertainment\\ndate: 2024-03-28', metadata={'source': 'merged_data_new_insert.csv', 'row': 18}), Document(page_content='author: \\ntitle: Expedia Group announces departure of Expedia Brands president Jon Gieselman\\ndescription: Expedia Group announces departure of Expedia Brands president Jon Gieselman\\nsource: Seeking Alpha\\ncategory: business\\ndate: 2024-03-28', metadata={'source': 'merged_data_new_insert.csv', 'row': 19}), Document(page_content='author: \\ntitle: Ascent Industries GAAP EPS of -$0.73 misses by $0.65, revenue of $41.2M\\ndescription: Ascent Industries GAAP EPS of -$0.73 misses by $0.65, revenue of $41.2M\\nsource: Seeking Alpha\\ncategory: business\\ndate: 2024-03-28', metadata={'source': 'merged_data_new_insert.csv', 'row': 20}), Document(page_content='author: Reuters\\ntitle: South Carolina voting map faulted for racial bias by court revived for 2024\\ndescription: South Carolina voting map faulted for racial bias by court revived for 2024\\nsource: Investing.com | Stock Market Quotes &amp; Financial News\\ncategory: business\\ndate: 2024-03-28', metadata={'source': 'merged_data_new_insert.csv', 'row': 21}), Document(page_content=\"author: Investing.com\\ntitle: MicroStrategy's executive chairman Saylor sells shares worth over $7.3 million\\ndescription: MicroStrategy's executive chairman Saylor sells shares worth over $7.3 million\\nsource: Investing.com | Stock Market Quotes &amp; Financial News\\ncategory: business\\ndate: 2024-03-28\", metadata={'source': 'merged_data_new_insert.csv', 'row': 22}), Document(page_content=\"author: Investing.com\\ntitle: MicroStrategy's executive chairman sells over $2.2 million in stock\\ndescription: MicroStrategy's executive chairman sells over $2.2 million in stock\\nsource: Investing.com | Stock Market Quotes &amp; Financial News\\ncategory: business\\ndate: 2024-03-28\", metadata={'source': 'merged_data_new_insert.csv', 'row': 23}), Document(page_content='author: Investing.com\\ntitle: SiTime Corp executive sells shares valued at $116,660\\ndescription: SiTime Corp executive sells shares valued at $116,660\\nsource: Investing.com | Stock Market Quotes &amp; Financial News\\ncategory: business\\ndate: 2024-03-28', metadata={'source': 'merged_data_new_insert.csv', 'row': 24}), Document(page_content='author: Akshay Kapoor\\ntitle: Miami Open: Hawk-Eye Baffles Victoria Azarenka as She Reacts in Shock to Elena Rybakina’s\\xa0Sheer\\xa0Luck', metadata={'source': 'merged_data_new_insert.csv', 'row': 25}), Document(page_content='description: Tennis fans currently find it hard to leave their seats as Elena Rybakina faces Victoria Azarenka in Miami. While both the players stand to be highly competitive, they are trying to break each other&#8217;s defense, in order to seek mistakes that can help them gain more points to take', metadata={'source': 'merged_data_new_insert.csv', 'row': 25}), Document(page_content='that can help them gain more points to take control of the match. Soon after [&#8230;]The post Miami Open: Hawk-Eye Baffles Victoria Azarenka as She Reacts in Shock to Elena Rybakina’s\\xa0Sheer\\xa0Luck appeared first on EssentiallySports.', metadata={'source': 'merged_data_new_insert.csv', 'row': 25}), Document(page_content='source: Essentially Sports\\ncategory: sports\\ndate: 2024-03-28', metadata={'source': 'merged_data_new_insert.csv', 'row': 25}), Document(page_content='author: Trip Gabriel\\ntitle: Linda Bean, an L.L. Bean Heir and a Conservative Donor, Dies at 82\\ndescription: A granddaughter of the celebrated Maine brand’s founder, she set out as an entrepreneur in her mid-60s and used her wealth to fund right-wing causes.\\nsource: The New York Times', metadata={'source': 'merged_data_new_insert.csv', 'row': 26}), Document(page_content='source: The New York Times\\ncategory: politics\\ndate: 2024-03-28', metadata={'source': 'merged_data_new_insert.csv', 'row': 26}), Document(page_content='author: Chris Roush\\ntitle: Why Evan Gershkovich’s case is so important', metadata={'source': 'merged_data_new_insert.csv', 'row': 27}), Document(page_content='description: Danielle Gershkovich, sister of jailed Wall Street Journal reporter\\xa0Evan Gershkovich, writes about her brother for the Philadelphia Inquirer. Gershkovich writes, &#8220;Evan was just doing his job as a reporter. It was his dream job, and he was accredited by the Russian foreign', metadata={'source': 'merged_data_new_insert.csv', 'row': 27}), Document(page_content='job, and he was accredited by the Russian foreign ministry to do it. I think of him now, sitting in Lefortovo prison [&#8230;]', metadata={'source': 'merged_data_new_insert.csv', 'row': 27}), Document(page_content='source: Talking Biz News\\ncategory: business\\ndate: 2024-03-28', metadata={'source': 'merged_data_new_insert.csv', 'row': 27}), Document(page_content='author: \\ntitle: Arcadia Biosciences GAAP EPS of -$2.10 beats by $0.48, revenue of $1.17M misses by $0.58M\\ndescription: Arcadia Biosciences GAAP EPS of -$2.10 beats by $0.48, revenue of $1.17M misses by $0.58M\\nsource: Seeking Alpha\\ncategory: business\\ndate: 2024-03-28', metadata={'source': 'merged_data_new_insert.csv', 'row': 28}), Document(page_content='author: \\ntitle: Aspira Women’s Health GAAP EPS of -$0.30 beats by $0.15, revenue of $2.13M misses by $0.42M\\ndescription: Aspira Women’s Health GAAP EPS of -$0.30 beats by $0.15, revenue of $2.13M misses by $0.42M\\nsource: Seeking Alpha\\ncategory: business\\ndate: 2024-03-28', metadata={'source': 'merged_data_new_insert.csv', 'row': 29}), Document(page_content='author: \\ntitle: S&P 500 closes out stellar Q1 with gains of ~10%, Nasdaq and Dow also surge\\ndescription: S&P 500 closes out stellar Q1 with gains of ~10%, Nasdaq and Dow also surge\\nsource: Seeking Alpha\\ncategory: business\\ndate: 2024-03-28', metadata={'source': 'merged_data_new_insert.csv', 'row': 30}), Document(page_content='author: \\ntitle: Veritex announces $50M worth stock buyback program\\ndescription: Veritex announces $50M worth stock buyback program\\nsource: Seeking Alpha\\ncategory: business\\ndate: 2024-03-28', metadata={'source': 'merged_data_new_insert.csv', 'row': 31}), Document(page_content='author: Abhinav Kumar Singh\\ntitle: IPL 2024: Rajasthan Royals announces Movado as Official Time Partner', metadata={'source': 'merged_data_new_insert.csv', 'row': 32}), Document(page_content='description: The post IPL 2024: Rajasthan Royals announces Movado as Official Time Partner appeared first on The Sports News.Through the collaboration, Movado becomes the official time partner of the Rajasthan Royals for the 2024 season.The post IPL 2024: Rajasthan Royals announces Movado as', metadata={'source': 'merged_data_new_insert.csv', 'row': 32}), Document(page_content='IPL 2024: Rajasthan Royals announces Movado as Official Time Partner appeared first on The Sports News.', metadata={'source': 'merged_data_new_insert.csv', 'row': 32}), Document(page_content='source: The Sports News\\ncategory: sports\\ndate: 2024-03-28', metadata={'source': 'merged_data_new_insert.csv', 'row': 32}), Document(page_content='author: \\ntitle: INmune Bio GAAP EPS of -$1.67 misses by $0.02, revenue of $0.15M beats by $0.01M\\ndescription: INmune Bio GAAP EPS of -$1.67 misses by $0.02, revenue of $0.15M beats by $0.01M\\nsource: Seeking Alpha\\ncategory: business\\ndate: 2024-03-28', metadata={'source': 'merged_data_new_insert.csv', 'row': 33}), Document(page_content='author: \\ntitle: TSS GAAP EPS of $0.02, revenue of $24.4M\\ndescription: TSS GAAP EPS of $0.02, revenue of $24.4M\\nsource: Seeking Alpha\\ncategory: business\\ndate: 2024-03-28', metadata={'source': 'merged_data_new_insert.csv', 'row': 34}), Document(page_content='author: Chris Roush\\ntitle: Taylor joins Bloomberg’s municipal finance team', metadata={'source': 'merged_data_new_insert.csv', 'row': 35}), Document(page_content='description: Bloomberg News reporter\\xa0Sri Taylor\\xa0is joining the multiple finance team. She will cover high-yield muni debt, state and local finances, infrastructure projects and more in the New England region. Taylor previously was a leveraged finance reporter, covering markets for junk bonds and', metadata={'source': 'merged_data_new_insert.csv', 'row': 35}), Document(page_content='reporter, covering markets for junk bonds and leveraged loans. Taylor of a graduate of Rutgers University-New Brunswick.', metadata={'source': 'merged_data_new_insert.csv', 'row': 35}), Document(page_content='source: Talking Biz News\\ncategory: business\\ndate: 2024-03-28', metadata={'source': 'merged_data_new_insert.csv', 'row': 35}), Document(page_content='author: Sanchari Bhaduri\\ntitle: Will NBA Suspend Draymond Green For Violating Official’s Personal Space? Aftermath Of Warriors Star’s Latest Antic Can Determine Future', metadata={'source': 'merged_data_new_insert.csv', 'row': 36}), Document(page_content='description: Removed after picking up two technical fouls, Draymond Green faced yet another setback at Wednesday&#8217;s game. As the Warriors vs. Magic night took off, the Golden State team entered the matchup with a single-game lead over the Rockets. With every win counting for the final spot in', metadata={'source': 'merged_data_new_insert.csv', 'row': 36}), Document(page_content='With every win counting for the final spot in the Play-In run, they geared up for the [&#8230;]The post Will NBA Suspend Draymond Green For Violating Official&#8217;s Personal Space? Aftermath Of Warriors Star&#8217;s Latest Antic Can Determine Future appeared first on EssentiallySports.', metadata={'source': 'merged_data_new_insert.csv', 'row': 36}), Document(page_content='source: Essentially Sports\\ncategory: sports\\ndate: 2024-03-28', metadata={'source': 'merged_data_new_insert.csv', 'row': 36}), Document(page_content=\"author: Bill Bender\\ntitle: Will Caitlin Clark go to the 2024 Olympics? Four-time gold medalist Lisa Leslie believes Iowa star '100 percent' should be on Team USA\", metadata={'source': 'merged_data_new_insert.csv', 'row': 37}), Document(page_content=\"description: Iowa superstar Caitlin Clark is on the 14-player training camp roster for the Team USA women's basketball team. Only 12 will compete in the Paris Olympics in late July.\\nsource: Sporting News\\ncategory: sports\\ndate: 2024-03-28\", metadata={'source': 'merged_data_new_insert.csv', 'row': 37}), Document(page_content='author: Robert Calcutt\\ntitle: Luke Littler screams in delight after ending World no.1 Luke Humphries’ stunning winning run\\ndescription: Luke Littler screams in delight after ending World no.1 Luke Humphries’ stunning winning run\\nsource: TalkSport\\ncategory: sports\\ndate: 2024-03-28', metadata={'source': 'merged_data_new_insert.csv', 'row': 38}), Document(page_content='author: Rich Cimini\\ntitle: Jets owner slams report on argument with coach\\ndescription: Jets owner Woody Johnson used social media Thursday to refute a claim by an NFL Network host that he and coach Robert Saleh engaged in a \"very heated conversation\" earlier this week.\\nsource: ESPN\\ncategory: sports', metadata={'source': 'merged_data_new_insert.csv', 'row': 39}), Document(page_content='source: ESPN\\ncategory: sports\\ndate: 2024-03-28', metadata={'source': 'merged_data_new_insert.csv', 'row': 39}), Document(page_content='author: Investing.com\\ntitle: RAMM Pharma Corp. Announces Corporate Update\\ndescription: RAMM Pharma Corp. Announces Corporate Update\\nsource: Investing.com | Stock Market Quotes &amp; Financial News\\ncategory: business\\ndate: 2024-03-28', metadata={'source': 'merged_data_new_insert.csv', 'row': 40}), Document(page_content='author: Eric Smithling, Yardbarker\\ntitle: Watch: Mike Trout hits first home run of 2024 MLB season off Corbin Burnes', metadata={'source': 'merged_data_new_insert.csv', 'row': 41}), Document(page_content=\"description: Former Cy Young Award winner Corbin Burnes was the Orioles' biggest offseason addition, but he had nothing on Angels' three-time MVP Mike Trout in the first game of the MLB season.\\nsource: Yardbarker\\ncategory: sports\\ndate: 2024-03-28\", metadata={'source': 'merged_data_new_insert.csv', 'row': 41}), Document(page_content='author: \\ntitle: Evolve catapulted higher as NYC Mayor unveils plan to use gun detection in subways\\ndescription: Evolve catapulted higher as NYC Mayor unveils plan to use gun detection in subways\\nsource: Seeking Alpha\\ncategory: business\\ndate: 2024-03-28', metadata={'source': 'merged_data_new_insert.csv', 'row': 42}), Document(page_content='author: \\ntitle: Wild desert plants face viral surprise', metadata={'source': 'merged_data_new_insert.csv', 'row': 43}), Document(page_content='description: Just as many people battle seasonal colds and flu, native plants face their own viral threats. People have long known that plants can succumb to viruses just like humans. Now, a new study led by Michigan State University and the University of California, Riverside reveals a previously', metadata={'source': 'merged_data_new_insert.csv', 'row': 43}), Document(page_content='of California, Riverside reveals a previously unknown threat: non-native crop viruses are infecting and jeopardizing the health of wild desert plants.', metadata={'source': 'merged_data_new_insert.csv', 'row': 43}), Document(page_content='source: Phys.org - News And Articles On Science And Technology\\ncategory: science\\ndate: 2024-03-28', metadata={'source': 'merged_data_new_insert.csv', 'row': 43}), Document(page_content='author: Jacob Camenker\\ntitle: Michael Penix Jr. pro day takeaways: Washington QB shows off athleticism, deep passing skills in impressive workout', metadata={'source': 'merged_data_new_insert.csv', 'row': 44}), Document(page_content='description: Michael Penix Jr. may not be a guaranteed first-round pick, but his pro day was one of the most impressive of the 2024 NFL Draft cycle so far.\\nsource: Sporting News\\ncategory: sports\\ndate: 2024-03-28', metadata={'source': 'merged_data_new_insert.csv', 'row': 44}), Document(page_content='author: Akashdeep Banerjee\\ntitle: Unveiling 76ers’ ‘Worst Kept Secret’: LeBron James, Kawhi Leonard, and Paul George Saga', metadata={'source': 'merged_data_new_insert.csv', 'row': 45}), Document(page_content='description: The Los Angeles Clippers marched to the Wells Fargo Center and narrowly escaped defeat on Wednesday. The final score sheet read 107-108, so the Sixers team, without Joel Embiid, almost carried its weight all the way through. Heading into the clash, James Harden&#8217;s return to Philly', metadata={'source': 'merged_data_new_insert.csv', 'row': 45}), Document(page_content='the clash, James Harden&#8217;s return to Philly was the major narrative. However, the 76ers front office [&#8230;]The post Unveiling 76ers&#8217; &#8216;Worst Kept Secret&#8217;: LeBron James, Kawhi Leonard, and Paul George Saga appeared first on EssentiallySports.', metadata={'source': 'merged_data_new_insert.csv', 'row': 45}), Document(page_content='source: Essentially Sports\\ncategory: sports\\ndate: 2024-03-28', metadata={'source': 'merged_data_new_insert.csv', 'row': 45}), Document(page_content='author: Kris Johnson\\ntitle: Best North Carolina sports betting promos for UNC vs. Alabama in Sweet 16: Claim thousands in NC sportsbook bonuses from FanDuel, BetMGM, Bet365 & DraftKings', metadata={'source': 'merged_data_new_insert.csv', 'row': 46}), Document(page_content='description: Here are the best North Carolina sports betting promos for the Sweet 16. Score bonus bets worth thousands of dollars from NC sportsbook apps like FanDuel, BetMGM, Bet365 and DraftKings ahead of UNC vs. Alabama tonight.\\nsource: Sporting News\\ncategory: sports\\ndate: 2024-03-28', metadata={'source': 'merged_data_new_insert.csv', 'row': 46}), Document(page_content='author: \\ntitle: Four S&P 500 names beat on EPS this week; CCL warns of guidance impact after Baltimore bridge collapse - Earnings Scorecard\\ndescription: Four S&P 500 names beat on EPS this week; CCL warns of guidance impact after Baltimore bridge collapse - Earnings Scorecard\\nsource: Seeking Alpha', metadata={'source': 'merged_data_new_insert.csv', 'row': 47}), Document(page_content='source: Seeking Alpha\\ncategory: business\\ndate: 2024-03-28', metadata={'source': 'merged_data_new_insert.csv', 'row': 47}), Document(page_content='author: TMZ Staff\\ntitle: Logan Paul Rips Graham Bensinger Over Documentary, You Promised Apple TV+', metadata={'source': 'merged_data_new_insert.csv', 'row': 48}), Document(page_content='description: Logan Paul is beyond pissed about the new documentary about him that just dropped ... and he\\'s blaming Graham Bensinger, the guy who spent 5 months interviewing him for the film. We had Logan and Graham on \"TMZ Live\" Thursday, and we thought they&hellip;\\nsource: TMZ', metadata={'source': 'merged_data_new_insert.csv', 'row': 48}), Document(page_content='source: TMZ\\ncategory: entertainment\\ndate: 2024-03-28', metadata={'source': 'merged_data_new_insert.csv', 'row': 48}), Document(page_content=\"author: Amanda Silberling\\ntitle: X is testing NSFW adult communities, according to screenshots\\ndescription: Even though X seems to be working on this NSFW Communities feature, that doesn't mean it'll come to fruition.© 2024 TechCrunch. All rights reserved. For personal use only.\\nsource: TechCrunch\", metadata={'source': 'merged_data_new_insert.csv', 'row': 49}), Document(page_content='source: TechCrunch\\ncategory: technology\\ndate: 2024-03-28', metadata={'source': 'merged_data_new_insert.csv', 'row': 49}), Document(page_content='author: By Paul Kirby\\ntitle: Moscow attack: Russia blames West and Kyiv for jihadist massacre\\ndescription: Top Russian officials have directly accused Ukraine and the West of being involved in the deadly Moscow concert hall attack, after it was claimed by the Islamic State (IS) group.', metadata={'source': 'merged_data_new_insert.csv', 'row': 50}), Document(page_content='source: BBC News\\ncategory: World\\ndate: 2024-03-26', metadata={'source': 'merged_data_new_insert.csv', 'row': 50}), Document(page_content='author: By Simon Fraser\\ntitle: China hits out at US and UK over cyber hack claims\\ndescription: China has hit back at accusations from the US and UK that it is behind a state hacking operation targeting millions of people in Western countries.\\nsource: BBC News\\ncategory: Asia\\ndate: 2024-03-26', metadata={'source': 'merged_data_new_insert.csv', 'row': 51}), Document(page_content=\"author: By Sean Coughlan\\ntitle: King will attend Easter church service at Windsor\\ndescription: The King and Queen will attend the Easter Sunday service at St George's Chapel at Windsor Castle, Buckingham Palace has confirmed.\\nsource: Royal correspondent\\ncategory: UK\\ndate: 2024-03-26\", metadata={'source': 'merged_data_new_insert.csv', 'row': 52}), Document(page_content='author: By Hannah Price and Tom Beal\\ntitle: Secret papers reveal Post Office knew its court defence was false\\ndescription: A draft report uncovered by the BBC shows the Post Office spent £100m fighting sub-postmasters in court despite knowing its defence was untrue.\\nsource: BBC News investigations', metadata={'source': 'merged_data_new_insert.csv', 'row': 53}), Document(page_content='source: BBC News investigations\\ncategory: UK\\ndate: 2024-03-28', metadata={'source': 'merged_data_new_insert.csv', 'row': 53}), Document(page_content='author: By Lauren Potts\\ntitle: What are the National Minimum Wage, National Living Wage and Real Living Wage?\\ndescription: Millions of workers across the UK will see their pay increase when the National Minimum Wage and National Living Wage go up on 1 April.\\nsource: BBC News\\ncategory: Business', metadata={'source': 'merged_data_new_insert.csv', 'row': 54}), Document(page_content='source: BBC News\\ncategory: Business\\ndate: 2024-03-27', metadata={'source': 'merged_data_new_insert.csv', 'row': 54}), Document(page_content='author: Chirag Radhyan\\ntitle: Jeff Mayweather Makes His Pick Between Devin Haney and Ryan Garcia', metadata={'source': 'merged_data_new_insert.csv', 'row': 55}), Document(page_content='description: Devin Haney and Ryan Garcia, two young boxing stars on seemingly divergent paths, are bound by a shared past. Their rivalry stretches back to their teenage years, where they battled six times in the amateurs, splitting the series 3-3. That last meeting, a January 2015 encounter at the', metadata={'source': 'merged_data_new_insert.csv', 'row': 55}), Document(page_content='last meeting, a January 2015 encounter at the USA Youth National Championships, saw a 16-year-old [&#8230;]The post Jeff Mayweather Makes His Pick Between Devin Haney and Ryan Garcia appeared first on EssentiallySports.', metadata={'source': 'merged_data_new_insert.csv', 'row': 55}), Document(page_content='source: Essentially Sports\\ncategory: sports\\ndate: 2024-03-26', metadata={'source': 'merged_data_new_insert.csv', 'row': 55}), Document(page_content='author: \\ntitle: Global Self Storage reports Q4 results\\ndescription: Global Self Storage reports Q4 results\\nsource: Seeking Alpha\\ncategory: business\\ndate: 2024-03-26', metadata={'source': 'merged_data_new_insert.csv', 'row': 56}), Document(page_content='author: \\ntitle: OneText (YC W23) Is Hiring a Lead Design/UX Engineer\\ndescription: Comments\\nsource: Hacker News\\ncategory: technology\\ndate: 2024-03-26', metadata={'source': 'merged_data_new_insert.csv', 'row': 57}), Document(page_content='author: Colum Dell, Yardbarker\\ntitle: MLB Opening Day primer: 10 hot topics entering the season', metadata={'source': 'merged_data_new_insert.csv', 'row': 58}), Document(page_content='description: The Dodgers and Padres opened the MLB season March 20-21 in South Korea, but the 28 other teams will take the field for the first time in 2024 on Thursday. In preparation for Opening Day, here are 10 of the hottest topics entering the season for the teams yet to play.', metadata={'source': 'merged_data_new_insert.csv', 'row': 58}), Document(page_content='source: Yardbarker\\ncategory: sports\\ndate: 2024-03-26', metadata={'source': 'merged_data_new_insert.csv', 'row': 58}), Document(page_content='author: GlobeNewswire\\ntitle: Ford’s Budget sounds death knell for public services in Ontario, says OFL', metadata={'source': 'merged_data_new_insert.csv', 'row': 59}), Document(page_content='description: TORONTO, March 26, 2024 (GLOBE NEWSWIRE) &#8212; Doug Ford’s obsession with tax cuts and tax credits in today’s provincial Budget sounds the death knell for Ontario’s languishing public services, says the Ontario Federation of Labour (OFL). The devastating result will be the loss of', metadata={'source': 'merged_data_new_insert.csv', 'row': 59}), Document(page_content='(OFL). The devastating result will be the loss of nearly $8 billion in revenue in 2023-24, which is urgently needed [&#8230;]', metadata={'source': 'merged_data_new_insert.csv', 'row': 59}), Document(page_content='source: Financial Post | Canada Business News\\ncategory: business\\ndate: 2024-03-26', metadata={'source': 'merged_data_new_insert.csv', 'row': 59}), Document(page_content=\"author: Mark Ogden\\ntitle: Sources: Man Utd want O'Neil talks for coach role\\ndescription: Manchester United want to speak to Wolverhampton Wanderers head coach Gary O'Neil about a role in a potential new coaching set-up at Old Trafford, sources have told ESPN.\\nsource: ESPN\\ncategory: sports\", metadata={'source': 'merged_data_new_insert.csv', 'row': 60}), Document(page_content='source: ESPN\\ncategory: sports\\ndate: 2024-03-26', metadata={'source': 'merged_data_new_insert.csv', 'row': 60}), Document(page_content='author: GlobeNewswire\\ntitle: Glaring Omission: Ford Government Budget Ignores Teachers, Failing Students Yet Again', metadata={'source': 'merged_data_new_insert.csv', 'row': 61}), Document(page_content='description: TORONTO, March 26, 2024 (GLOBE NEWSWIRE) &#8212; The Ontario English Catholic Teachers’ Association (OECTA) has issued the following statement from President René Jansen in de Wal in response to the announcement of the 2024 provincial budget: “Not once does the Ford Conservative', metadata={'source': 'merged_data_new_insert.csv', 'row': 61}), Document(page_content='budget: “Not once does the Ford Conservative government’s proposed budget mention the word ‘teacher’ in the body of its ‘plan’ [&#8230;]', metadata={'source': 'merged_data_new_insert.csv', 'row': 61}), Document(page_content='source: Financial Post | Canada Business News\\ncategory: business\\ndate: 2024-03-26', metadata={'source': 'merged_data_new_insert.csv', 'row': 61}), Document(page_content='author: /u/9oRo\\ntitle: Georgia qualifies for the Euros for the first time after beating Greece on penalties\\ndescription: &#32; submitted by &#32; /u/9oRo [link] &#32; [comments]\\nsource: Sports | Reddit\\ncategory: sports\\ndate: 2024-03-26', metadata={'source': 'merged_data_new_insert.csv', 'row': 62}), Document(page_content='author: \\ntitle: Researchers realize electrochemical conversion of methane and O₂ to HCOOH at room temperature', metadata={'source': 'merged_data_new_insert.csv', 'row': 63}), Document(page_content='description: Direct conversion of CH4 and O2 to value-added chemicals is important for natural gas industries. However, challenges remain due to the difficulty of O2 activation in forming active oxygen species for CH4 activation under mild conditions.', metadata={'source': 'merged_data_new_insert.csv', 'row': 63}), Document(page_content='source: Phys.org - News And Articles On Science And Technology\\ncategory: science\\ndate: 2024-03-26', metadata={'source': 'merged_data_new_insert.csv', 'row': 63}), Document(page_content='author: \\ntitle: New research area promotes both quantum computing and cognitive science', metadata={'source': 'merged_data_new_insert.csv', 'row': 64}), Document(page_content='description: Diving deep into quantum biology or cognitive science alone is challenging enough. That being said, a research team recently wrote a review article highlighting molecular quantum computing, a newly emerged research area that is likely to push the research boundaries of both. The review', metadata={'source': 'merged_data_new_insert.csv', 'row': 64}), Document(page_content='push the research boundaries of both. The review was published in Intelligent Computing.', metadata={'source': 'merged_data_new_insert.csv', 'row': 64}), Document(page_content='source: Phys.org - News And Articles On Science And Technology\\ncategory: science\\ndate: 2024-03-26', metadata={'source': 'merged_data_new_insert.csv', 'row': 64}), Document(page_content='author: Jeffrey Parkin\\ntitle: ‘Readvent of Calamity’ quest walkthrough in Dragon’s Dogma 2\\ndescription: Image: Capcom via Polygon Where to find Ulrika in Melve ‘from time to time’ Continue reading&hellip;\\nsource: Polygon\\ncategory: entertainment\\ndate: 2024-03-26', metadata={'source': 'merged_data_new_insert.csv', 'row': 65}), Document(page_content='author: \\ntitle: Researchers show that introduced tardigrade proteins can slow metabolism in human cells', metadata={'source': 'merged_data_new_insert.csv', 'row': 66}), Document(page_content='description: University of Wyoming researchers have gained further insight into how tardigrades survive extreme conditions and have shown that proteins from the microscopic creatures expressed in human cells can slow down molecular processes.', metadata={'source': 'merged_data_new_insert.csv', 'row': 66}), Document(page_content='source: Phys.org - News And Articles On Science And Technology\\ncategory: science\\ndate: 2024-03-26', metadata={'source': 'merged_data_new_insert.csv', 'row': 66}), Document(page_content='author: \\ntitle: Examining the delicate balance of lepton flavors', metadata={'source': 'merged_data_new_insert.csv', 'row': 67}), Document(page_content='description: In a talk at the ongoing Rencontres de Moriond conference, the ATLAS collaboration presented the result of its latest test of a key principle of the Standard Model of particle physics known as lepton flavor universality. The precision of the result is the best yet achieved by a single', metadata={'source': 'merged_data_new_insert.csv', 'row': 67}), Document(page_content='the result is the best yet achieved by a single experiment in decays of the W boson and surpasses that of the current experimental average.', metadata={'source': 'merged_data_new_insert.csv', 'row': 67}), Document(page_content='source: Phys.org - News And Articles On Science And Technology\\ncategory: science\\ndate: 2024-03-26', metadata={'source': 'merged_data_new_insert.csv', 'row': 67}), Document(page_content=\"author: Adam Gretz, Yardbarker\\ntitle: Steelers add potential impact kickoff returner on same day as kickoff rule change\\ndescription: The Pittsburgh Steelers are not wasting any time in trying to take advantage of the NFL's new kickoff rules.\\nsource: Yardbarker\\ncategory: sports\\ndate: 2024-03-26\", metadata={'source': 'merged_data_new_insert.csv', 'row': 68}), Document(page_content=\"author: Zac Wassink, Yardbarker\\ntitle: Bears HC Matt Eberflus addresses questions about Caleb Williams' character\\ndescription: Individuals within the Chicago Bears are doing a good job of hiding it if they truly have any concerns about supposed\\xa0red flags\\xa0hovering over the status of Caleb Williams.\", metadata={'source': 'merged_data_new_insert.csv', 'row': 69}), Document(page_content='source: Yardbarker\\ncategory: sports\\ndate: 2024-03-26', metadata={'source': 'merged_data_new_insert.csv', 'row': 69}), Document(page_content='author: \\ntitle: Korro Bio GAAP EPS of -$53.08\\ndescription: Korro Bio GAAP EPS of -$53.08\\nsource: Seeking Alpha\\ncategory: business\\ndate: 2024-03-26', metadata={'source': 'merged_data_new_insert.csv', 'row': 70}), Document(page_content='author: Connor Andrews\\ntitle: Kylian Mbappe booed by his own fans during France warm-up\\ndescription: Kylian Mbappe booed by his own fans during France warm-up\\nsource: TalkSport\\ncategory: sports\\ndate: 2024-03-26', metadata={'source': 'merged_data_new_insert.csv', 'row': 71}), Document(page_content='author: \\ntitle: Mallinckrodt reports Q4 results\\ndescription: Mallinckrodt reports Q4 results\\nsource: Seeking Alpha\\ncategory: business\\ndate: 2024-03-26', metadata={'source': 'merged_data_new_insert.csv', 'row': 72}), Document(page_content='author: \\ntitle: U.S. crude stockpiles rose 9.3M barrels last week, API says\\ndescription: U.S. crude stockpiles rose 9.3M barrels last week, API says\\nsource: Seeking Alpha\\ncategory: business\\ndate: 2024-03-26', metadata={'source': 'merged_data_new_insert.csv', 'row': 73}), Document(page_content='author: Neal E. Boudette\\ntitle: Automakers say they are rerouting car shipments away from Baltimore.\\ndescription: Automakers say they are rerouting car shipments away from Baltimore.\\nsource: The New York Times\\ncategory: entertainment\\ndate: 2024-03-26', metadata={'source': 'merged_data_new_insert.csv', 'row': 74}), Document(page_content='author: \\ntitle: Study assesses geographical patterns and determinants of insect biodiversity in China', metadata={'source': 'merged_data_new_insert.csv', 'row': 75}), Document(page_content='description: A new study titled \"Geographical patterns and determinants of insect biodiversity in China\" and published in Science China Life Sciences has been led by Prof. Fuwen Wei (Institute of Zoology, Chinese Academy of Sciences and Jiangxi Agricultural University) and Prof. Gexiao Qiao', metadata={'source': 'merged_data_new_insert.csv', 'row': 75}), Document(page_content='Agricultural University) and Prof. Gexiao Qiao (Institute of Zoology, Chinese Academy of Sciences).', metadata={'source': 'merged_data_new_insert.csv', 'row': 75}), Document(page_content='source: Phys.org - News And Articles On Science And Technology\\ncategory: science\\ndate: 2024-03-26', metadata={'source': 'merged_data_new_insert.csv', 'row': 75}), Document(page_content='author: Brian Heater\\ntitle: NASA’s snake robot is designed to search out life in the icy oceans of a Saturn moon', metadata={'source': 'merged_data_new_insert.csv', 'row': 76}), Document(page_content='description: The snake robot form factor has existed for decades. In addition to the diversity it adds to the world of automation, the design has several pragmatic attributes. The first is redundancy, which allows for the system to keep chugging even after a module is damaged. The second is a body', metadata={'source': 'merged_data_new_insert.csv', 'row': 76}), Document(page_content='after a module is damaged. The second is a body that makes it possible for [&#8230;]© 2024 TechCrunch. All rights reserved. For personal use only.', metadata={'source': 'merged_data_new_insert.csv', 'row': 76}), Document(page_content='source: TechCrunch\\ncategory: technology\\ndate: 2024-03-26', metadata={'source': 'merged_data_new_insert.csv', 'row': 76}), Document(page_content='author: Darshita Daga\\ntitle: Jontay Porter Betting Controversy: Potential Ramifications Loom for the Raptors star amid Rising Suspicion', metadata={'source': 'merged_data_new_insert.csv', 'row': 77}), Document(page_content='description: The NBA has launched an investigation into Toronto Raptors&#8217; two-way player Jontay Porter amid gambling allegations. According to NBA policy, all NBA players, along with all employees affiliated with the NBA, are prohibited from betting on any NBA events, including prop bets. But', metadata={'source': 'merged_data_new_insert.csv', 'row': 77}), Document(page_content='on any NBA events, including prop bets. But there is a rising suspicion that the Toronto Raptors two-way player was [&#8230;]The post Jontay Porter Betting Controversy: Potential Ramifications Loom for the Raptors star amid Rising Suspicion appeared first on EssentiallySports.', metadata={'source': 'merged_data_new_insert.csv', 'row': 77}), Document(page_content='source: Essentially Sports\\ncategory: sports\\ndate: 2024-03-26', metadata={'source': 'merged_data_new_insert.csv', 'row': 77}), Document(page_content='author: \\ntitle: WisdomTree International Quality Dividend Growth Fund declares quarterly distribution of $0.21\\ndescription: WisdomTree International Quality Dividend Growth Fund declares quarterly distribution of $0.21\\nsource: Seeking Alpha\\ncategory: business\\ndate: 2024-03-26', metadata={'source': 'merged_data_new_insert.csv', 'row': 78}), Document(page_content='author: \\ntitle: WisdomTree International Multifactor Fund declares quarterly distribution of $0.1050\\ndescription: WisdomTree International Multifactor Fund declares quarterly distribution of $0.1050\\nsource: Seeking Alpha\\ncategory: business\\ndate: 2024-03-26', metadata={'source': 'merged_data_new_insert.csv', 'row': 79}), Document(page_content='author: \\ntitle: WisdomTree International MidCap Dividend Fund declares quarterly distribution of $0.1100\\ndescription: WisdomTree International MidCap Dividend Fund declares quarterly distribution of $0.1100\\nsource: Seeking Alpha\\ncategory: business\\ndate: 2024-03-26', metadata={'source': 'merged_data_new_insert.csv', 'row': 80}), Document(page_content=\"author: \\ntitle: Ouster's Q4 loss narrows, gives upbeat 2024 sales guidance\\ndescription: Ouster's Q4 loss narrows, gives upbeat 2024 sales guidance\\nsource: Seeking Alpha\\ncategory: business\\ndate: 2024-03-26\", metadata={'source': 'merged_data_new_insert.csv', 'row': 81}), Document(page_content='author: \\ntitle: WisdomTree International LargeCap Dividend Fund declares quarterly distribution of $0.3100\\ndescription: WisdomTree International LargeCap Dividend Fund declares quarterly distribution of $0.3100\\nsource: Seeking Alpha\\ncategory: business\\ndate: 2024-03-26', metadata={'source': 'merged_data_new_insert.csv', 'row': 82}), Document(page_content='author: \\ntitle: WisdomTree International High Dividend Fund declares quarterly distribution of $0.2700\\ndescription: WisdomTree International High Dividend Fund declares quarterly distribution of $0.2700\\nsource: Seeking Alpha\\ncategory: business\\ndate: 2024-03-26', metadata={'source': 'merged_data_new_insert.csv', 'row': 83}), Document(page_content='author: \\ntitle: Aptose Biosciences GAAP EPS of -$7.58 beats by $0.40\\ndescription: Aptose Biosciences GAAP EPS of -$7.58 beats by $0.40\\nsource: Seeking Alpha\\ncategory: business\\ndate: 2024-03-26', metadata={'source': 'merged_data_new_insert.csv', 'row': 84}), Document(page_content='author: \\ntitle: Elephant hunting by early humans may explain proximity between extensive Paleolithic stone quarries and water sources', metadata={'source': 'merged_data_new_insert.csv', 'row': 85}), Document(page_content='description: Archaeologists from Tel Aviv University have uncovered the mystery surrounding extensive Paleolithic stone quarrying and tool-making sites: Why did Homo erectus repeatedly revisit the very same locations for hundreds of thousands of years? The answer lies in the migration routes of', metadata={'source': 'merged_data_new_insert.csv', 'row': 85}), Document(page_content='years? The answer lies in the migration routes of elephants, which they hunted and dismembered using flint tools crafted at these quarrying sites.', metadata={'source': 'merged_data_new_insert.csv', 'row': 85}), Document(page_content='source: Phys.org - News And Articles On Science And Technology\\ncategory: science\\ndate: 2024-03-26', metadata={'source': 'merged_data_new_insert.csv', 'row': 85}), Document(page_content='author: \\ntitle: WisdomTree International AI Enhanced Value Fund declares quarterly distribution of $0.1950\\ndescription: WisdomTree International AI Enhanced Value Fund declares quarterly distribution of $0.1950\\nsource: Seeking Alpha\\ncategory: business\\ndate: 2024-03-26', metadata={'source': 'merged_data_new_insert.csv', 'row': 86}), Document(page_content='author: \\ntitle: ProSomnus reports Q4 results\\ndescription: ProSomnus reports Q4 results\\nsource: Seeking Alpha\\ncategory: business\\ndate: 2024-03-26', metadata={'source': 'merged_data_new_insert.csv', 'row': 87}), Document(page_content='author: \\ntitle: Zoned Properties reports Q4 results\\ndescription: Zoned Properties reports Q4 results\\nsource: Seeking Alpha\\ncategory: business\\ndate: 2024-03-26', metadata={'source': 'merged_data_new_insert.csv', 'row': 88}), Document(page_content='author: Sloan Piva\\ntitle: Marquette vs. NC State prediction: How to pick, bet Sweet 16 odds for 2024 March Madness game', metadata={'source': 'merged_data_new_insert.csv', 'row': 89}), Document(page_content=\"description: Will NC State's Cinderella run continue against Marquette in the Sweet 16? SN breaks down the odds and make our final score prediction and pick against the spread for Friday's March Madness showdown.\\nsource: Sporting News\\ncategory: sports\\ndate: 2024-03-26\", metadata={'source': 'merged_data_new_insert.csv', 'row': 89}), Document(page_content='author: \\ntitle: Kane Biotech GAAP EPS of -$0.01\\ndescription: Kane Biotech GAAP EPS of -$0.01\\nsource: Seeking Alpha\\ncategory: business\\ndate: 2024-03-26', metadata={'source': 'merged_data_new_insert.csv', 'row': 90}), Document(page_content='author: Kanishk Thakur\\ntitle: Dana White’s Rival for ‘TUF-Like’ Series Signs Ex-UFC Champs as Coaches', metadata={'source': 'merged_data_new_insert.csv', 'row': 91}), Document(page_content='description: When Dana White and the Fertitta brothers took over the UFC in 2001, the promotion was on the verge of bankruptcy. Banned in many states in the United States including New York, it was seen as a barbaric and violent sport, relegated to holding events at community centres and the like', metadata={'source': 'merged_data_new_insert.csv', 'row': 91}), Document(page_content='holding events at community centres and the like in third-tier cities and [&#8230;]The post Dana White’s Rival for ‘TUF-Like’ Series Signs Ex-UFC Champs as Coaches appeared first on EssentiallySports.', metadata={'source': 'merged_data_new_insert.csv', 'row': 91}), Document(page_content='source: Essentially Sports\\ncategory: sports\\ndate: 2024-03-26', metadata={'source': 'merged_data_new_insert.csv', 'row': 91}), Document(page_content=\"author: Megan Farokhmanesh\\ntitle: Is AI the Future of NPCs?\\ndescription: Artificial intelligence is poised to have a massive impact on video games in the next few years, something that excites and worries developers. Some think non-player characters might be AI's killer app.\\nsource: Wired\", metadata={'source': 'merged_data_new_insert.csv', 'row': 92}), Document(page_content='source: Wired\\ncategory: technology\\ndate: 2024-03-26', metadata={'source': 'merged_data_new_insert.csv', 'row': 92}), Document(page_content='author: \\ntitle: Bit Digital plans to lock in further GPU commitment from customer\\ndescription: Bit Digital plans to lock in further GPU commitment from customer\\nsource: Seeking Alpha\\ncategory: business\\ndate: 2024-03-26', metadata={'source': 'merged_data_new_insert.csv', 'row': 93}), Document(page_content='author: Juan Allan\\ntitle: Thai Parliament Approves Delayed 2024 Budget', metadata={'source': 'merged_data_new_insert.csv', 'row': 94}), Document(page_content='description: The new budget will focus on increasing spending in the Thai economy and a drop of 0.3% in the budget deficit to 693 billion baht from the previous year.This article was originally published here: Thai Parliament Approves Delayed 2024 Budget\\nsource: Thailand Business News', metadata={'source': 'merged_data_new_insert.csv', 'row': 94}), Document(page_content='source: Thailand Business News\\ncategory: business\\ndate: 2024-03-26', metadata={'source': 'merged_data_new_insert.csv', 'row': 94}), Document(page_content='author: \\ntitle: Adam Neumann’s bid to buy back WeWork faces uphill battle due to financing challenges\\ndescription: WeWork founder Adam Neumann is reportedly trying to buy back the company that ousted him in 2019, but he faces plenty of hurdles along the way.\\nsource: Cnbc | World Business News Leader', metadata={'source': 'merged_data_new_insert.csv', 'row': 95}), Document(page_content='source: Cnbc | World Business News Leader\\ncategory: business\\ndate: 2024-03-26', metadata={'source': 'merged_data_new_insert.csv', 'row': 95}), Document(page_content='author: The Roar\\ntitle: Albanese asked to intervene as former Dees doctor drops bombshell over players dodging drug tests', metadata={'source': 'merged_data_new_insert.csv', 'row': 96}), Document(page_content='description: A whistleblowing doctor has revealed allegations of secret illicit drug tests conducted to enable AFL players to avoid detection on game days, federal MP Andrew Wilkie says. Mr Wilkie told parliament of the allegations from a former Melbourne Demons club doctor and football club', metadata={'source': 'merged_data_new_insert.csv', 'row': 96}), Document(page_content='Melbourne Demons club doctor and football club president. He described the allegations as credible, detailed and provided in [&#8230;]', metadata={'source': 'merged_data_new_insert.csv', 'row': 96}), Document(page_content='source: The Roar | Sports Writers Blog\\ncategory: sports\\ndate: 2024-03-26', metadata={'source': 'merged_data_new_insert.csv', 'row': 96}), Document(page_content='author: \\ntitle: NCNO, OPI and MESO are among after hour movers\\ndescription: NCNO, OPI and MESO are among after hour movers\\nsource: Seeking Alpha\\ncategory: business\\ndate: 2024-03-26', metadata={'source': 'merged_data_new_insert.csv', 'row': 97}), Document(page_content='author: \\ntitle: Behavior of ant queens found to be shaped by their social environments\\ndescription: The queens in colonies of social insects, such as ants, bees, and wasps, are considered the veritable embodiment of specialization in the animal kingdom.', metadata={'source': 'merged_data_new_insert.csv', 'row': 98}), Document(page_content='source: Phys.org - News And Articles On Science And Technology\\ncategory: science\\ndate: 2024-03-26', metadata={'source': 'merged_data_new_insert.csv', 'row': 98}), Document(page_content='author: \\ntitle: Greenlane Renewables reports Q4 results\\ndescription: Greenlane Renewables reports Q4 results\\nsource: Seeking Alpha\\ncategory: business\\ndate: 2024-03-26', metadata={'source': 'merged_data_new_insert.csv', 'row': 99}), Document(page_content='author: Robert Calcutt\\ntitle: Andy Robertson goes off injured for Scotland in blow to Liverpool\\ndescription: Andy Robertson goes off injured for Scotland in blow to Liverpool\\nsource: TalkSport\\ncategory: sports\\ndate: 2024-03-26', metadata={'source': 'merged_data_new_insert.csv', 'row': 100}), Document(page_content='author: /u/UFCRippingGringo\\ntitle: Conor McGregor Comeback! 😲🤯 The Notorious returns to the UFC Octagon. 🙌\\ndescription: FINALLY its actually going to happen! &#32; submitted by &#32; /u/UFCRippingGringo [link] &#32; [comments]\\nsource: Sports | Reddit\\ncategory: sports\\ndate: 2024-03-26', metadata={'source': 'merged_data_new_insert.csv', 'row': 101}), Document(page_content=\"author: Edward Sutelan\\ntitle: Pete Rose's gambling scandal, explained: Why MLB's hits king is banned for betting on baseball\", metadata={'source': 'merged_data_new_insert.csv', 'row': 102}), Document(page_content='description: Rose has more hits than anyone in baseball history, and he accomplished the feat without performance-enhancing drugs. Yet he remains barred from baseball and the Hall of Fame.\\nsource: Sporting News\\ncategory: sports\\ndate: 2024-03-26', metadata={'source': 'merged_data_new_insert.csv', 'row': 102}), Document(page_content='author: /u/CardsMan9\\ntitle: Today In Sports History: Larry Bird & Magic Johnson Rivalry Begins In NCAA Finals. Epic Game!\\ndescription: &#32; submitted by &#32; /u/CardsMan9 [link] &#32; [comments]\\nsource: Sports | Reddit\\ncategory: sports\\ndate: 2024-03-26', metadata={'source': 'merged_data_new_insert.csv', 'row': 103}), Document(page_content='author: \\ntitle: New computational technique enhances accuracy of measurements in nuclear geoscience', metadata={'source': 'merged_data_new_insert.csv', 'row': 104}), Document(page_content='description: Conventional nuclear measurement techniques, such as Monte Carlo simulations, are known for their extensive computational demands and prolonged processing times, especially when applied to unconventional reservoirs characterized by complex lithologies. These traditional methods often', metadata={'source': 'merged_data_new_insert.csv', 'row': 104}), Document(page_content='lithologies. These traditional methods often fall short in efficiently interpreting geological formations, presenting significant challenges in environments where precision and speed are critical.', metadata={'source': 'merged_data_new_insert.csv', 'row': 104}), Document(page_content='source: Phys.org - News And Articles On Science And Technology\\ncategory: science\\ndate: 2024-03-26', metadata={'source': 'merged_data_new_insert.csv', 'row': 104}), Document(page_content='author: \\ntitle: X-FAB Silicon Foundries SE GAAP EPS of $1.25, revenue of $906.79M misses by $41.61M\\ndescription: X-FAB Silicon Foundries SE GAAP EPS of $1.25, revenue of $906.79M misses by $41.61M\\nsource: Seeking Alpha\\ncategory: business\\ndate: 2024-03-26', metadata={'source': 'merged_data_new_insert.csv', 'row': 105}), Document(page_content='author: \\ntitle: King Charles III confirms first major event since cancer diagnosis\\ndescription: King Charles III has confirmed his attendance at the upcoming Easter Sunday church service, his first major public appearance since his cancer diagnosis.\\nsource: The Sydney Morning Herald', metadata={'source': 'merged_data_new_insert.csv', 'row': 106}), Document(page_content='source: The Sydney Morning Herald\\ncategory: entertainment\\ndate: 2024-03-26', metadata={'source': 'merged_data_new_insert.csv', 'row': 106}), Document(page_content='author: \\ntitle: King Charles III confirms first major event since cancer diagnosis\\ndescription: King Charles III has confirmed his attendance at the upcoming Easter Sunday church service, his first major public appearance since his cancer diagnosis.\\nsource: The Age\\ncategory: entertainment', metadata={'source': 'merged_data_new_insert.csv', 'row': 107}), Document(page_content='source: The Age\\ncategory: entertainment\\ndate: 2024-03-26', metadata={'source': 'merged_data_new_insert.csv', 'row': 107}), Document(page_content='author: Mrinal Mishra\\ntitle: “Ain’t No Fighter More Hungry for Greatness”: David Benavidez’s Dig at Canelo Alvarez in Recent Post Draws Wild Reactions From Fans', metadata={'source': 'merged_data_new_insert.csv', 'row': 108}), Document(page_content='description: David Benavidez, the undefeated super middleweight interim champion, isn&#8217;t letting up the pressure. Via Instagram, he challenges Canelo Alvarez. His message? Bold and clear. &#8220;I&#8217;m the youngest super middleweight champion,&#8221; he states, &#8220;Who wants to see', metadata={'source': 'merged_data_new_insert.csv', 'row': 108}), Document(page_content='he states, &#8220;Who wants to see Benavidez vs. Canelo?&#8221; The video fuels the fire, highlighting a fight fans crave. Meanwhile, Canelo&#8217;s demands hover between 150 [&#8230;]The post “Ain’t No Fighter More Hungry for Greatness”: David Benavidez’s Dig at Canelo Alvarez in Recent Post Draws', metadata={'source': 'merged_data_new_insert.csv', 'row': 108}), Document(page_content='Dig at Canelo Alvarez in Recent Post Draws Wild Reactions From Fans appeared first on...', metadata={'source': 'merged_data_new_insert.csv', 'row': 108}), Document(page_content='source: Essentially Sports\\ncategory: sports\\ndate: 2024-03-26', metadata={'source': 'merged_data_new_insert.csv', 'row': 108}), Document(page_content='author: \\ntitle: Stoke Therapeutics announces proposed public offering worth $75M\\ndescription: Stoke Therapeutics announces proposed public offering worth $75M\\nsource: Seeking Alpha\\ncategory: business\\ndate: 2024-03-26', metadata={'source': 'merged_data_new_insert.csv', 'row': 109}), Document(page_content='author: Sam Robinson, Pro Football Rumors\\ntitle: Steelers to sign versatile offensive weapon, return man', metadata={'source': 'merged_data_new_insert.csv', 'row': 110}), Document(page_content='description: He has been a dominant return specialist during the period in which that job decreased in importance. As the NFL prepares to revive this play, the Steelers are bringing in a perennial All-Pro.\\nsource: Yardbarker\\ncategory: sports\\ndate: 2024-03-26', metadata={'source': 'merged_data_new_insert.csv', 'row': 110}), Document(page_content='author: Phil Spencer\\ntitle: Ivan Toney gave one-word verdict on Euro 2024 hopes and Jude Bellingham helped make it happen\\ndescription: Ivan Toney gave one-word verdict on Euro 2024 hopes and Jude Bellingham helped make it happen\\nsource: TalkSport\\ncategory: sports\\ndate: 2024-03-26', metadata={'source': 'merged_data_new_insert.csv', 'row': 111}), Document(page_content='author: Daniel Karell\\ntitle: Barcelona vs Man City tickets in Orlando: Price, best seats for Camping World Stadium 2024 game', metadata={'source': 'merged_data_new_insert.csv', 'row': 112}), Document(page_content=\"description: If you're looking to buy tickets for Barcelona vs. Man City for this summer in Orlando, here is everything you need to know including cheapest prices, best seats and the entire summer U.S. soccer schedule the European clubs.\\nsource: Sporting News\\ncategory: sports\\ndate: 2024-03-26\", metadata={'source': 'merged_data_new_insert.csv', 'row': 112}), Document(page_content='author: The Roar\\ntitle: NRL News: Hopoate lucky to avoid serious injury from BBQ blow-up, Drinkwater now an elite fullback – Payten', metadata={'source': 'merged_data_new_insert.csv', 'row': 113}), Document(page_content='description: Raiders winger Albert Hopoate is lucky he is only missing one NRL match and didn&#8217;t suffer serious injuries after an oil can exploded while he was cooking a barbeque. The Canberra winger suffered burns to his right arm after the explosion on Monday night and despite wanting to', metadata={'source': 'merged_data_new_insert.csv', 'row': 113}), Document(page_content='explosion on Monday night and despite wanting to train with the team the next day, [&#8230;]', metadata={'source': 'merged_data_new_insert.csv', 'row': 113}), Document(page_content='source: The Roar | Sports Writers Blog\\ncategory: sports\\ndate: 2024-03-26', metadata={'source': 'merged_data_new_insert.csv', 'row': 113}), Document(page_content='author: Sumedha Mukherjee\\ntitle: Kyle Larson Unleashes Bitter 6-Worded Reality Check That Fueled His ‘Prime’ in NASCAR', metadata={'source': 'merged_data_new_insert.csv', 'row': 114}), Document(page_content='description: Kyle Larson saw his top-five dreams slip out through the window after an incident at the COTA Cup race. JGR driver Christopher Bell spun him on lap 21 and later apologized as well. However, Kyle Larson is still on a golden streak this season, having snagged the COTA Xfinity win,', metadata={'source': 'merged_data_new_insert.csv', 'row': 114}), Document(page_content='this season, having snagged the COTA Xfinity win, besides the Las Vegas Cup [&#8230;]The post Kyle Larson Unleashes Bitter 6-Worded Reality Check That Fueled His ‘Prime’ in NASCAR appeared first on EssentiallySports.', metadata={'source': 'merged_data_new_insert.csv', 'row': 114}), Document(page_content='source: Essentially Sports\\ncategory: sports\\ndate: 2024-03-26', metadata={'source': 'merged_data_new_insert.csv', 'row': 114}), Document(page_content='author: \\ntitle: ATA Creativity Global reports Q4 results\\ndescription: ATA Creativity Global reports Q4 results\\nsource: Seeking Alpha\\ncategory: business\\ndate: 2024-03-26', metadata={'source': 'merged_data_new_insert.csv', 'row': 115}), Document(page_content='author: \\ntitle: DuPont stock breaks a six-day winning spell, trades in the red\\ndescription: DuPont stock breaks a six-day winning spell, trades in the red\\nsource: Seeking Alpha\\ncategory: business\\ndate: 2024-03-26', metadata={'source': 'merged_data_new_insert.csv', 'row': 116}), Document(page_content='author: \\ntitle: US TV host Stephen Colbert addresses recent jokes he made about Kate Middleton\\ndescription: US TV host Stephen Colbert has addressed recent jokes he made about the Princess of Wales on The Late Show.\\nsource: The Age\\ncategory: entertainment\\ndate: 2024-03-26', metadata={'source': 'merged_data_new_insert.csv', 'row': 117}), Document(page_content='author: \\ntitle: US TV host Stephen Colbert addresses recent jokes he made about Kate Middleton\\ndescription: US TV host Stephen Colbert has addressed recent jokes he made about the Princess of Wales on The Late Show.\\nsource: The Sydney Morning Herald\\ncategory: entertainment\\ndate: 2024-03-26', metadata={'source': 'merged_data_new_insert.csv', 'row': 118}), Document(page_content='author: Tyler Forness\\ntitle: Dallas Cowboys give no indication of a new contract for Dak Prescott\\ndescription: The Dallas Cowboys have given no indication of giving Dak Prescott a new contract.\\nsource: Sporting News\\ncategory: sports\\ndate: 2024-03-26', metadata={'source': 'merged_data_new_insert.csv', 'row': 119}), Document(page_content='author: \\ntitle: nCino surges as Q4 earnings blow past estimates; offers up mixed guidance\\ndescription: nCino surges as Q4 earnings blow past estimates; offers up mixed guidance\\nsource: Seeking Alpha\\ncategory: business\\ndate: 2024-03-26', metadata={'source': 'merged_data_new_insert.csv', 'row': 120}), Document(page_content='author: Aryan Sharma\\ntitle: ‘Must Be a Bit Desperate’: Golf Fans Sneer at Justin Thomas As He Makes Talk Show Debut', metadata={'source': 'merged_data_new_insert.csv', 'row': 121}), Document(page_content='description: Pop culture and the realm of late-night television frequently overlap, bringing together personalities from diverse backgrounds. These programs give celebrities, from actors and artists to athletes and business owners, a stage on which to display their sense of humor and engage with', metadata={'source': 'merged_data_new_insert.csv', 'row': 121}), Document(page_content='to display their sense of humor and engage with viewers in a laid-back atmosphere. Renowned for its biting wit and political commentary, [&#8230;]The post &#8216;Must Be a Bit Desperate&#8217;: Golf Fans Sneer at Justin Thomas As He Makes Talk Show Debut appeared first on EssentiallySports.', metadata={'source': 'merged_data_new_insert.csv', 'row': 121}), Document(page_content='source: Essentially Sports\\ncategory: sports\\ndate: 2024-03-26', metadata={'source': 'merged_data_new_insert.csv', 'row': 121}), Document(page_content=\"author: TMZ Staff\\ntitle: Ex-'Bachelorette' Rachel Lindsay Thrilled With Show's First Asian Lead\", metadata={'source': 'merged_data_new_insert.csv', 'row': 122}), Document(page_content=\"description: Jenn Tran got tapped to be the first Asian-American 'Bachelorette' in TV history -- something that the first African-American 'Bachelorette' is incredibly proud to see come to fruition. Rachel Lindsay -- who made history as the first Black lead in&hellip;\\nsource: TMZ\", metadata={'source': 'merged_data_new_insert.csv', 'row': 122}), Document(page_content='source: TMZ\\ncategory: entertainment\\ndate: 2024-03-26', metadata={'source': 'merged_data_new_insert.csv', 'row': 122}), Document(page_content='author: cdavis@thebtngroup.com (Chris Davis)\\ntitle: IHG Rolls Out New Suites Prototypes\\ndescription: IHG Hotels & Resorts on Tuesday unveiled new U.S. prototypes for its three suites brands, designed to allow for more guest rooms per property. &#160;\\nsource: Business Travel News\\ncategory: business', metadata={'source': 'merged_data_new_insert.csv', 'row': 123}), Document(page_content='source: Business Travel News\\ncategory: business\\ndate: 2024-03-26', metadata={'source': 'merged_data_new_insert.csv', 'row': 123}), Document(page_content='author: Rebecca Szkutak\\ntitle: Vibrant Planet uses AI for land mapping and improving climate resiliency', metadata={'source': 'merged_data_new_insert.csv', 'row': 124}), Document(page_content='description: As the planet warms due to human-caused climate change, damage from wildfires has increased with it. The amount of forest area burned by wildfires increased 320% from 1996 to 2021, according to the National Integrated Drought Information System. While building tech to slow the', metadata={'source': 'merged_data_new_insert.csv', 'row': 124}), Document(page_content='System. While building tech to slow the progression and impacts of climate change would be ideal, it&#8217;s a [&#8230;]© 2024 TechCrunch. All rights reserved. For personal use only.', metadata={'source': 'merged_data_new_insert.csv', 'row': 124}), Document(page_content='source: TechCrunch\\ncategory: technology\\ndate: 2024-03-26', metadata={'source': 'merged_data_new_insert.csv', 'row': 124}), Document(page_content=\"author: \\ntitle: Protein in human sweat may protect some people against Lyme disease\\ndescription: A mutant gene that produces proteins in sweat may raise some people's risk of Lyme disease, while the standard version of the gene may protect against infection.\", metadata={'source': 'merged_data_new_insert.csv', 'row': 125}), Document(page_content='source: Live Science: The Most Interesting Articles\\ncategory: science\\ndate: 2024-03-26', metadata={'source': 'merged_data_new_insert.csv', 'row': 125}), Document(page_content=\"author: \\ntitle: Baltimore bridge collapse should be 'manageable loss' for insurers, Wells Fargo says\\ndescription: Baltimore bridge collapse should be 'manageable loss' for insurers, Wells Fargo says\\nsource: Seeking Alpha\\ncategory: business\\ndate: 2024-03-26\", metadata={'source': 'merged_data_new_insert.csv', 'row': 126}), Document(page_content='author: \\ntitle: NBT Bancorp files automatic mixed shelf\\ndescription: NBT Bancorp files automatic mixed shelf\\nsource: Seeking Alpha\\ncategory: business\\ndate: 2024-03-26', metadata={'source': 'merged_data_new_insert.csv', 'row': 127}), Document(page_content='author: /u/Forward-Answer-4407\\ntitle: Japanese schools move to protect cheerleaders from upskirting at sporting events\\ndescription: &#32; submitted by &#32; /u/Forward-Answer-4407 [link] &#32; [comments]\\nsource: Sports | Reddit\\ncategory: sports\\ndate: 2024-03-26', metadata={'source': 'merged_data_new_insert.csv', 'row': 128}), Document(page_content='author: \\ntitle: WidePoint GAAP EPS of -$0.15, revenue of $28.3M\\ndescription: WidePoint GAAP EPS of -$0.15, revenue of $28.3M\\nsource: Seeking Alpha\\ncategory: business\\ndate: 2024-03-26', metadata={'source': 'merged_data_new_insert.csv', 'row': 129}), Document(page_content='author: Reuters\\ntitle: GameStop cuts jobs, quarterly revenue falls\\ndescription: GameStop cuts jobs, quarterly revenue falls\\nsource: Investing.com | Stock Market Quotes &amp; Financial News\\ncategory: business\\ndate: 2024-03-26', metadata={'source': 'merged_data_new_insert.csv', 'row': 130}), Document(page_content=\"author: Reuters\\ntitle: Krispy Kreme shares jump as US partnership with McDonald's goes national\\ndescription: Krispy Kreme shares jump as US partnership with McDonald's goes national\\nsource: Investing.com | Stock Market Quotes &amp; Financial News\\ncategory: business\\ndate: 2024-03-26\", metadata={'source': 'merged_data_new_insert.csv', 'row': 131}), Document(page_content='author: \\ntitle: Progress Software considering offer for MariaDB plc\\ndescription: Progress Software considering offer for MariaDB plc\\nsource: Seeking Alpha\\ncategory: business\\ndate: 2024-03-26', metadata={'source': 'merged_data_new_insert.csv', 'row': 132}), Document(page_content='author: \\ntitle: GameStop in charts: Hardware sales slide 12%, while revenue from software falls 31% in FQ4\\ndescription: GameStop in charts: Hardware sales slide 12%, while revenue from software falls 31% in FQ4\\nsource: Seeking Alpha\\ncategory: business\\ndate: 2024-03-26', metadata={'source': 'merged_data_new_insert.csv', 'row': 133}), Document(page_content='author: Investing.com\\ntitle: Surgery Partners prices $800 million in senior notes\\ndescription: Surgery Partners prices $800 million in senior notes\\nsource: Investing.com | Stock Market Quotes &amp; Financial News\\ncategory: business\\ndate: 2024-03-26', metadata={'source': 'merged_data_new_insert.csv', 'row': 134}), Document(page_content='author: Ian Youngs and Steven McIntosh\\ntitle: Taylor Swift fans lose £1m in scams, Lloyds Bank estimates\\ndescription: Taylor Swift fans have lost an estimated £1m in ticket scams ahead of the UK leg of her Eras tour, according to a report by Lloyds Bank..\\nsource: BBC News\\ncategory: Culture', metadata={'source': 'merged_data_new_insert.csv', 'row': 135}), Document(page_content='source: BBC News\\ncategory: Culture\\ndate: 2024-04-17', metadata={'source': 'merged_data_new_insert.csv', 'row': 135})]\n"
          ]
        },
        {
          "output_type": "execute_result",
          "data": {
            "text/plain": [
              "['__add__',\n",
              " '__class__',\n",
              " '__class_getitem__',\n",
              " '__contains__',\n",
              " '__delattr__',\n",
              " '__delitem__',\n",
              " '__dir__',\n",
              " '__doc__',\n",
              " '__eq__',\n",
              " '__format__',\n",
              " '__ge__',\n",
              " '__getattribute__',\n",
              " '__getitem__',\n",
              " '__gt__',\n",
              " '__hash__',\n",
              " '__iadd__',\n",
              " '__imul__',\n",
              " '__init__',\n",
              " '__init_subclass__',\n",
              " '__iter__',\n",
              " '__le__',\n",
              " '__len__',\n",
              " '__lt__',\n",
              " '__mul__',\n",
              " '__ne__',\n",
              " '__new__',\n",
              " '__reduce__',\n",
              " '__reduce_ex__',\n",
              " '__repr__',\n",
              " '__reversed__',\n",
              " '__rmul__',\n",
              " '__setattr__',\n",
              " '__setitem__',\n",
              " '__sizeof__',\n",
              " '__str__',\n",
              " '__subclasshook__',\n",
              " 'append',\n",
              " 'clear',\n",
              " 'copy',\n",
              " 'count',\n",
              " 'extend',\n",
              " 'index',\n",
              " 'insert',\n",
              " 'pop',\n",
              " 'remove',\n",
              " 'reverse',\n",
              " 'sort']"
            ]
          },
          "metadata": {},
          "execution_count": 16
        }
      ]
    },
    {
      "cell_type": "code",
      "source": [
        "print(type(docs[0]))\n",
        "print(dir(docs[0]))\n",
        "texts = [doc.page_content for doc in docs]"
      ],
      "metadata": {
        "colab": {
          "base_uri": "https://localhost:8080/"
        },
        "id": "nxYYfOi2NR7b",
        "outputId": "5afb6860-8daf-441e-da43-9da8dac3b834"
      },
      "execution_count": 17,
      "outputs": [
        {
          "output_type": "stream",
          "name": "stdout",
          "text": [
            "<class 'langchain_core.documents.base.Document'>\n",
            "['Config', '__abstractmethods__', '__annotations__', '__class__', '__class_vars__', '__config__', '__custom_root_type__', '__delattr__', '__dict__', '__dir__', '__doc__', '__eq__', '__exclude_fields__', '__fields__', '__fields_set__', '__format__', '__ge__', '__get_validators__', '__getattribute__', '__getstate__', '__gt__', '__hash__', '__include_fields__', '__init__', '__init_subclass__', '__iter__', '__json_encoder__', '__le__', '__lt__', '__module__', '__ne__', '__new__', '__post_root_validators__', '__pre_root_validators__', '__pretty__', '__private_attributes__', '__reduce__', '__reduce_ex__', '__repr__', '__repr_args__', '__repr_name__', '__repr_str__', '__rich_repr__', '__schema_cache__', '__setattr__', '__setstate__', '__signature__', '__sizeof__', '__slots__', '__str__', '__subclasshook__', '__try_update_forward_refs__', '__validators__', '_abc_impl', '_calculate_keys', '_copy_and_set_values', '_decompose_class', '_enforce_dict_if_root', '_get_value', '_init_private_attributes', '_iter', '_lc_kwargs', 'construct', 'copy', 'dict', 'from_orm', 'get_lc_namespace', 'is_lc_serializable', 'json', 'lc_attributes', 'lc_id', 'lc_secrets', 'metadata', 'page_content', 'parse_file', 'parse_obj', 'parse_raw', 'schema', 'schema_json', 'to_json', 'to_json_not_implemented', 'type', 'update_forward_refs', 'validate']\n"
          ]
        }
      ]
    },
    {
      "cell_type": "code",
      "source": [
        "from langchain_community.embeddings import HuggingFaceInferenceAPIEmbeddings\n",
        "from langchain_community.vectorstores import FAISS\n",
        "\n",
        "embeddings=HuggingFaceInferenceAPIEmbeddings(\n",
        "    api_key=HUGGINGFACE_API_TOKEN, model_name='BAAI/bge-base-en-v1.5'\n",
        ")"
      ],
      "metadata": {
        "id": "De6EL1vQ72AZ"
      },
      "execution_count": 18,
      "outputs": []
    },
    {
      "cell_type": "code",
      "source": [
        "# test whether the embeddings work\n",
        "text = \"This is a test document.\"\n",
        "query_result = embeddings.embed_query(text)\n",
        "query_result"
      ],
      "metadata": {
        "id": "RqrB0aEwRLTa"
      },
      "execution_count": null,
      "outputs": []
    },
    {
      "cell_type": "code",
      "source": [
        "!pip install faiss-gpu # this package is required to use the FAISS\n",
        "\n",
        "## Create a FAISS database from documents and their embeddings.\n",
        "# This database will be used for similarity searches.\n",
        "db=FAISS.from_documents(docs,embeddings)\n",
        "\n",
        "# Define a query to search within the documents.\n",
        "query='Who is the author of Chani is the real protagonist of Dune: Part Two?'"
      ],
      "metadata": {
        "colab": {
          "base_uri": "https://localhost:8080/"
        },
        "id": "86C8hkJ5K4iX",
        "outputId": "602284dc-39e3-4b47-92f3-70577738b7b6"
      },
      "execution_count": 20,
      "outputs": [
        {
          "output_type": "stream",
          "name": "stdout",
          "text": [
            "Collecting faiss-gpu\n",
            "  Downloading faiss_gpu-1.7.2-cp310-cp310-manylinux_2_17_x86_64.manylinux2014_x86_64.whl (85.5 MB)\n",
            "\u001b[2K     \u001b[90m━━━━━━━━━━━━━━━━━━━━━━━━━━━━━━━━━━━━━━━━\u001b[0m \u001b[32m85.5/85.5 MB\u001b[0m \u001b[31m8.3 MB/s\u001b[0m eta \u001b[36m0:00:00\u001b[0m\n",
            "\u001b[?25hInstalling collected packages: faiss-gpu\n",
            "Successfully installed faiss-gpu-1.7.2\n"
          ]
        }
      ]
    },
    {
      "cell_type": "code",
      "source": [
        "# Print the page content of the first document for inspection purposes.\n",
        "print(docs[0].page_content)"
      ],
      "metadata": {
        "colab": {
          "base_uri": "https://localhost:8080/"
        },
        "id": "fNFL3vm6Tp7J",
        "outputId": "7df4afbf-5fbd-4380-9dcc-a62a3a2b9b65"
      },
      "execution_count": null,
      "outputs": [
        {
          "output_type": "stream",
          "name": "stdout",
          "text": [
            "author: \n",
            "title: Forian GAAP EPS of $0.04 beats by $0.07, revenue of $5.37M misses by $0.19M\n",
            "description: Forian GAAP EPS of $0.04 beats by $0.07, revenue of $5.37M misses by $0.19M\n",
            "source: Seeking Alpha\n",
            "category: business\n",
            "date: 2024-03-28T20:26:56+00:00\n",
            "release_time: 2024-03-28T20:26:56\n"
          ]
        }
      ]
    },
    {
      "cell_type": "code",
      "source": [
        "# Perform a similarity search in the FAISS database with the specified query\n",
        "# and retrieving the top 3 similar items.\n",
        "result_simi = db.similarity_search(query , k = 3)"
      ],
      "metadata": {
        "id": "t0vYWqY0Up3z"
      },
      "execution_count": null,
      "outputs": []
    },
    {
      "cell_type": "code",
      "source": [
        "result_simi"
      ],
      "metadata": {
        "colab": {
          "base_uri": "https://localhost:8080/"
        },
        "id": "WswMZyYiY3Ic",
        "outputId": "074b307c-2a53-46c2-c906-eb87a9313f5b"
      },
      "execution_count": null,
      "outputs": [
        {
          "output_type": "execute_result",
          "data": {
            "text/plain": [
              "[Document(page_content='author: Austen Goslin\\ntitle: Chani is the real protagonist of Dune: Part Two\\ndescription: Photo: Chiabella James/Warner Bros. Pictures This is Zendaya’s movie, and the storytelling choices reflect it Continue reading&hellip;\\nsource: Polygon\\ncategory: entertainment\\ndate: 2024-03-28T20:16:16+00:00', metadata={'source': 'new_processed_file.csv', 'row': 18}),\n",
              " Document(page_content='author: Jeffrey Parkin\\ntitle: ‘Readvent of Calamity’ quest walkthrough in Dragon’s Dogma 2\\ndescription: Image: Capcom via Polygon Where to find Ulrika in Melve ‘from time to time’ Continue reading&hellip;\\nsource: Polygon\\ncategory: entertainment\\ndate: 2024-03-26T20:57:25+00:00', metadata={'source': 'new_processed_file.csv', 'row': 65}),\n",
              " Document(page_content='author: Akashdeep Banerjee\\ntitle: Unveiling 76ers’ ‘Worst Kept Secret’: LeBron James, Kawhi Leonard, and Paul George Saga', metadata={'source': 'new_processed_file.csv', 'row': 45})]"
            ]
          },
          "metadata": {},
          "execution_count": 35
        }
      ]
    },
    {
      "cell_type": "code",
      "source": [
        "# Aggregate the page contents of the top 3 similar items into a single string, separated by new lines.\n",
        "# This aggregated content serves as the source knowledge context for answering the query.\n",
        "source_knowledge = \"\\n\".join([x.page_content for x in result_simi])\n",
        "\n",
        "# Construct an augmented prompt that includes both the source knowledge context and the query.\n",
        "# This prompt is structured to facilitate the generation of an answer based on the provided context.\n",
        "augmented_prompt = \"\"\"Using the contexts below, answer the query.\n",
        "\n",
        "contexts:\n",
        "{source_knowledge}\n",
        "\n",
        "query: {query}\"\"\"\n"
      ],
      "metadata": {
        "id": "dQ4yTAUTUt35"
      },
      "execution_count": null,
      "outputs": []
    },
    {
      "cell_type": "code",
      "source": [
        "prompt = PromptTemplate(template=augmented_prompt, input_variables=[\"source_knowledge\" ,\"query\"])\n",
        "\n",
        "llm_chain = LLMChain(prompt=prompt, llm=llm  , llm_kwargs = {\"temperature\":0, \"max_length\":1024})\n",
        "\n",
        "print(llm_chain.run( {\"source_knowledge\":source_knowledge ,\"query\" : query }))\n"
      ],
      "metadata": {
        "colab": {
          "base_uri": "https://localhost:8080/"
        },
        "id": "ARaxEeQeU4ZY",
        "outputId": "d71679d8-91bc-405d-9c8c-14f1df4dfb82"
      },
      "execution_count": null,
      "outputs": [
        {
          "output_type": "stream",
          "name": "stdout",
          "text": [
            "Austen Goslin\n"
          ]
        }
      ]
    },
    {
      "cell_type": "code",
      "source": [
        "query2=\"Linda Bean died at the age of ?\"\n",
        "result_simi2 = db.similarity_search(query2 , k = 5)\n",
        "source_knowledge2 = \"\\n\".join([x.page_content for x in result_simi2])\n",
        "augmented_prompt2 = \"\"\"Using the contexts below, answer the query.\n",
        "contexts:\n",
        "{source_knowledge2}\n",
        "\n",
        "query: {query2}\"\"\"\n",
        "prompt2 = PromptTemplate(template=augmented_prompt2, input_variables=[\"source_knowledge2\" ,\"query2\"])\n",
        "llm_chain2 = LLMChain(prompt=prompt2, llm=llm  , llm_kwargs = {\"temperature\":0.6, \"max_length\":1024})\n",
        "print(llm_chain2.run( {\"source_knowledge2\":source_knowledge2 ,\"query2\" : query2 }))"
      ],
      "metadata": {
        "colab": {
          "base_uri": "https://localhost:8080/"
        },
        "id": "aUP4oyATZ2o8",
        "outputId": "51e3016e-9059-49f7-e204-cb713205afe7"
      },
      "execution_count": null,
      "outputs": [
        {
          "output_type": "stream",
          "name": "stdout",
          "text": [
            "82\n"
          ]
        }
      ]
    }
  ]
}