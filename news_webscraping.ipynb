{
 "cells": [
  {
   "cell_type": "code",
   "execution_count": 49,
   "metadata": {},
   "outputs": [],
   "source": [
    "import requests\n",
    "from bs4 import BeautifulSoup"
   ]
  },
  {
   "cell_type": "code",
   "execution_count": 50,
   "metadata": {},
   "outputs": [],
   "source": [
    "url='https://www.bbc.co.uk/news/world-europe-68663043'\n",
    "response = requests.get(url)\n",
    "html = response.text"
   ]
  },
  {
   "cell_type": "code",
   "execution_count": 56,
   "metadata": {},
   "outputs": [
    {
     "name": "stdout",
     "output_type": "stream",
     "text": [
      "{'author': 'By Paul Kirby', 'source': 'BBC News', 'category': 'World', 'date': '2024-03-26T15:09:30.000Z', 'title': 'Moscow attack: Russia blames West and Kyiv for jihadist massacre', 'description': 'Top Russian officials have directly accused Ukraine and the West of being involved in the deadly Moscow concert hall attack, after it was claimed by the Islamic State (IS) group.'}\n",
      "{'author': 'By Simon Fraser', 'source': 'BBC News', 'category': 'Asia', 'date': '2024-03-26T11:18:52.000Z', 'title': 'China hits out at US and UK over cyber hack claims', 'description': 'China has hit back at accusations from the US and UK that it is behind a state hacking operation targeting millions of people in Western countries.'}\n",
      "{'author': 'By Sean Coughlan', 'source': 'Royal correspondent', 'category': 'UK', 'date': '2024-03-26T13:50:42.000Z', 'title': 'King will attend Easter church service at Windsor', 'description': \"The King and Queen will attend the Easter Sunday service at St George's Chapel at Windsor Castle, Buckingham Palace has confirmed.\"}\n",
      "{'author': 'By Hannah Price and Tom Beal', 'source': 'BBC News investigations', 'category': 'UK', 'date': '2024-03-28T17:00:43.000Z', 'title': 'Secret papers reveal Post Office knew its court defence was false', 'description': 'A draft report uncovered by the BBC shows the Post Office spent £100m fighting sub-postmasters in court despite knowing its defence was untrue.'}\n",
      "{'author': 'By Lauren Potts', 'source': 'BBC News', 'category': 'Business', 'date': '2024-03-27T12:08:44.000Z', 'title': 'What are the National Minimum Wage, National Living Wage and Real Living Wage?', 'description': 'Millions of workers across the UK will see their pay increase when the National Minimum Wage and National Living Wage go up on 1 April.'}\n"
     ]
    }
   ],
   "source": [
    "import requests\n",
    "from lxml import html\n",
    "from bs4 import BeautifulSoup\n",
    "\n",
    "def scrape_news_info(url):\n",
    "    try:\n",
    "        # get webpage's content\n",
    "        response = requests.get(url)\n",
    "        \n",
    "        # ensure request is successful\n",
    "        if response.status_code == 200:\n",
    "            soup = BeautifulSoup(response.content, 'html.parser')\n",
    "            # transfer the acquired HTMLto html object in lxml\n",
    "            tree = html.fromstring(response.content)\n",
    "\n",
    "              # find the content\n",
    "            author_name = tree.xpath('/html/body/div/div/div/div[1]/div[2]/div/div[1]/main/article/div[2]/div[1]/div/div/div[1]/text()')\n",
    "            source = tree.xpath(\"/html/body/div/div/div/div[1]/div[2]/div/div[1]/main/article/div[2]/div[1]/div/div/div[2]/text()\")\n",
    "            category = soup.find('span', class_='ssrcss-1mstwv3-LinkTextContainer')\n",
    "            date = tree.xpath(\"//time/@datetime\")\n",
    "            title = tree.xpath('//h1[@id=\"main-heading\"]/text()')\n",
    "            description = tree.xpath('//b[@class=\"ssrcss-1xjjfut-BoldText e5tfeyi3\"]/text()')\n",
    "            \n",
    "            if author_name:\n",
    "                \n",
    "                # return the scraped information\n",
    "                return {\n",
    "                    'author': author_name[0].strip(),\n",
    "                    'source': source[0].strip(),\n",
    "                    'category': category.get_text().strip() if category else None,\n",
    "                    'date': date[0].strip(),\n",
    "                    'title': title[0].strip(),\n",
    "                    'description': description[0].strip() if description else None\n",
    "                }\n",
    "            else:\n",
    "                return {\"message\": \"can not find author's name \"}\n",
    "        else:\n",
    "            return {\"message\": f\"fail, status：{response.status_code}\"}\n",
    "    except Exception as e:\n",
    "        return {\"message\": f\"abnormal：{str(e)}\"}\n",
    "\n",
    "# use different news information\n",
    "url1 = 'https://www.bbc.co.uk/news/world-europe-68663043'\n",
    "url2 = 'https://www.bbc.co.uk/news/world-asia-china-68655786'\n",
    "url3= \"https://www.bbc.co.uk/news/uk-68662884\"\n",
    "url4='https://www.bbc.co.uk/news/uk-68663750'\n",
    "url5='https://www.bbc.co.uk/news/uk-politics-48445674'\n",
    "\n",
    "urls=[url1,url2,url3,url4,url5]\n",
    "\n",
    "\n",
    "for i in urls:\n",
    "    print(scrape_news_info(i))\n",
    "    \n"
   ]
  },
  {
   "cell_type": "code",
   "execution_count": 62,
   "metadata": {},
   "outputs": [
    {
     "name": "stdout",
     "output_type": "stream",
     "text": [
      "News have been saved in news_data.json\n"
     ]
    }
   ],
   "source": [
    "\n",
    "news_list = []  \n",
    "for url in urls:\n",
    "    news_info = scrape_news_info(url)\n",
    "    if news_info:\n",
    "        news_list.append(news_info)\n",
    "\n",
    "# use json \n",
    "json_str = json.dumps(news_list, ensure_ascii=False, indent=4)\n",
    "\n",
    "# move the ''[]''\n",
    "json_str_trimmed = json_str[1:-1]\n",
    "\n",
    "# save the file in json format\n",
    "with open('/Users/amino-orzkc/Desktop/UCL/DE/个人作业/news_data.json', 'w', encoding='utf-8') as f:\n",
    "    f.write(json_str_trimmed)\n",
    "\n",
    "print(\"News have been saved in news_data.json\")"
   ]
  }
 ],
 "metadata": {
  "kernelspec": {
   "display_name": "Python 3",
   "language": "python",
   "name": "python3"
  },
  "language_info": {
   "codemirror_mode": {
    "name": "ipython",
    "version": 3
   },
   "file_extension": ".py",
   "mimetype": "text/x-python",
   "name": "python",
   "nbconvert_exporter": "python",
   "pygments_lexer": "ipython3",
   "version": "3.8.5"
  }
 },
 "nbformat": 4,
 "nbformat_minor": 4
}
